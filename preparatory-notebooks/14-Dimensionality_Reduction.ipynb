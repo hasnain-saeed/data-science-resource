{
 "cells": [
  {
   "cell_type": "markdown",
   "id": "9ee8008b",
   "metadata": {
    "deletable": false
   },
   "source": [
    "# [Introduction to Data Science](http://datascience-intro.github.io/1MS041-2024/)    \n",
    "## 1MS041, 2024 \n",
    "&copy;2024 Raazesh Sainudiin, Benny Avelin. [Attribution 4.0 International     (CC BY 4.0)](https://creativecommons.org/licenses/by/4.0/)"
   ]
  },
  {
   "cell_type": "markdown",
   "id": "a81d0dde",
   "metadata": {},
   "source": [
    "# Singular value decomposition"
   ]
  },
  {
   "cell_type": "markdown",
   "id": "2dd63944",
   "metadata": {},
   "source": [
    "In the book they explain the Singular Value Decomposition differently. The concept of singular value decomposition is tightly connected to Principal Component Analysis, and the methods to compute the SVD is how we get the components in PCA. We will therefore switch between explaining tthe ideas in the context of PCA as well as using the linear algebra \"geometric\" concepts. So, for those of you who know PCA but not SVD will have a hook, but also those of you who know linear algebra will understand the ideas of PCA.\n",
    "\n",
    "Consider a set of points in $R^d$, for instance the following plot (in $R^2$):"
   ]
  },
  {
   "cell_type": "code",
   "execution_count": 111,
   "id": "76defe1e",
   "metadata": {},
   "outputs": [
    {
     "data": {
      "image/png": "[encoded data removed]",
      "text/plain": [
       "<Figure size 640x480 with 1 Axes>"
      ]
     },
     "metadata": {},
     "output_type": "display_data"
    }
   ],
   "source": [
    "import numpy as np\n",
    "X = np.random.multivariate_normal(mean=(0,0),cov=[(1,0.8),(0.8,1)],size=(1000,))\n",
    "def points(X,Y=None):\n",
    "    import matplotlib.pyplot as plt\n",
    "    if (type(Y)!=type(None)):\n",
    "        plt.scatter(X,Y)\n",
    "    else:\n",
    "        if (X.shape[1] == 2):\n",
    "            plt.scatter(X[:,0],X[:,1])\n",
    "        elif ((X.shape[1] != 2) and (X.shape[0] == 2)):\n",
    "            plt.scatter(X[0,:],X[1,:])\n",
    "points(X)"
   ]
  },
  {
   "cell_type": "markdown",
   "id": "39027e5b",
   "metadata": {},
   "source": [
    "When we considered linear regression we considered linear approximations and minimized the squared error to find our function. That is, we only considered the y-component of our error. "
   ]
  },
  {
   "cell_type": "markdown",
   "id": "e76d4b6f",
   "metadata": {},
   "source": [
    "## Background\n",
    "\n",
    "### Projections of vectors\n",
    "\n",
    "Consider two vectors $a$ and $b$, we would like to project $a$ onto $b$, i.e.\n",
    "<img width=500px src=\"images/Projection_and_rejection.png\"></img>\n",
    "\n",
    "From the above picture we can think of the decomposition of $a$ in terms of $b$ as two vectors, namely $a_1$ and $a_2$, they are orthogonal, which we write as $a_1 \\perp a_2$."
   ]
  },
  {
   "cell_type": "markdown",
   "id": "75a2acb3",
   "metadata": {},
   "source": [
    "Lets say that we wish to approximate the data using a low-dimensional subspace, think of a low-dimensional hyperplane. In the case of 2d there is only 1d hyperplanes (lines), but if you have, say 100 dimensional we could consider the best fitting 10 dimensional hyperplane. What we mean with best fitting is that the distance from the point to its projection onto our subspace is as small as possible. Think of our 2d example above, then we would like to find the line such that orthogonal projection gives the smallest error. Just looking at the plot we would take the line $y=x$. \n",
    "\n",
    "<img src=\"images/first_singular_vector.png\"></img>\n",
    "\n",
    "But how do we formulate this rigorously?\n",
    "\n",
    "Consider a line given by the unit vector $v$, and consider a point $x$ then the projection of $x$ onto $v$ is as above given by\n",
    "$$\n",
    "    (v \\cdot x) v\n",
    "$$"
   ]
  },
  {
   "cell_type": "markdown",
   "id": "59c917dc",
   "metadata": {},
   "source": [
    "We will now use these ideas applied to IID samples of points $\\{X_1,\\ldots,X_n\\}\\in \\mathbb{R}^m$ with zero expectation. Let $w$ be a unit vector. Consider the projection of each $X_i$ onto $v$ but only consider the proportion i.e. $X_i \\cdot v$, then define\n",
    "$$\n",
    "    Y_i = (X_i \\cdot v)\n",
    "$$\n",
    "The line with maximal empirical variance can be written as\n",
    "$$\n",
    "    v_1:=\\arg\\max_{\\|v\\|=1} \\frac{1}{n} \\sum_i (Y_i - \\overline{Y}_n)^2 = \\arg\\max_{\\|v\\|=1} \\frac{1}{n} \\sum_{j=1}^n ((X_i \\cdot v) - \\overline{X \\cdot v}_n)^2 = \\arg\\max_{\\|v\\|=1} \\sum_{j=1}^n |X_i \\cdot v|^2\n",
    "$$"
   ]
  },
  {
   "cell_type": "markdown",
   "id": "3771816e",
   "metadata": {},
   "source": [
    "If we construct a matrix $A$ of size $n \\times m$ with rows $X_i$ then we can rewrite\n",
    "$$\n",
    "    \\sum_{j=1}^n |X_i \\cdot v|^2 = |Av|^2\n",
    "$$\n",
    "and our problem reduces to the linear algebra problem of given an $n \\times m$ matrix $A$ to find the direction that is most \"expanded/least contracted\" by $A$, in the following sense\n",
    "$$\n",
    "    \\arg\\max_{\\|w\\|=1} |Av|\n",
    "$$\n",
    "\n",
    "> Note, the singular vectors are not necessarily unique, in fact if $v$ is a singular vector, then so is $-v$. We can also have ties, in that case we arbitrarily pick one. In the following we will as in the book assume that the singular vectors can be picked uniquely, for instance by requiring no ties and that we fix the sign as to make the vector unique.\n",
    "\n",
    "### Definition\n",
    "> The vector $v_1 \\in \\mathbb{R}^m$ of the ($n \\times m$) matrix $A$, defined as\n",
    "> $$v_1:= \\arg\\max_{\\|v\\|=1} |Av|$$\n",
    "> is called the `first singular vector` of $A$.\n",
    "> The value $\\sigma_1(A)$ defined as\n",
    "> $$\\sigma_1(A) := |Av_1|$$\n",
    "> is called the `first singular value` of $A$."
   ]
  },
  {
   "cell_type": "markdown",
   "id": "84fe6654",
   "metadata": {},
   "source": [
    "#### Note\n",
    "> In the context where $A$ is constructed from our IID vectors $X_1,\\ldots,X_n$, we see that $\\sigma_1$ is the standard deviation in the direction of the first singular vector."
   ]
  },
  {
   "cell_type": "markdown",
   "id": "e1244efd",
   "metadata": {},
   "source": [
    "Now that we have defined the first singular vector, we can define the second singular vector. This is simply a vector that is orthogonal to $v_1$ again solving our maximum problem, i.e.\n",
    "$$\n",
    "    v_2 := \\arg\\max_{\\|v\\|=1, v \\perp v_1} |Av|\n",
    "$$"
   ]
  },
  {
   "cell_type": "markdown",
   "id": "40c827b1",
   "metadata": {},
   "source": [
    "We can interpret this as follows, consider the plane given by the first singular vector $v_1$ as the normal, then we can consider our new problem by finding the vector $v$ that maximizes $|(P_1A)v|$ where $P_1A=\\{P_1A_{1,\\cdot},\\ldots,P_1A_{n,\\cdot}\\}$ where $P$ is the projection of a vector onto the plane $v_1 \\cdot x = 0$."
   ]
  },
  {
   "cell_type": "markdown",
   "id": "fb9a1428",
   "metadata": {},
   "source": [
    "<img src=\"images/first_singular_vector.png\"></img><img src=\"images/projection_first_singular_vector.png\"></img>"
   ]
  },
  {
   "cell_type": "markdown",
   "id": "80a99019",
   "metadata": {},
   "source": [
    "### Theorem (Greedy Algorithm)\n",
    "> Let $A$ be an n x d matrix with singular vectors $v_1,...,v_r$. For $1 \\leq k \\leq r$, let $V_k$ be the subspace spanned by $v_1,\\ldots,v_k$. For each $k$, $V_k$ is the best fit $k$-dimensional subspace for $A$."
   ]
  },
  {
   "cell_type": "markdown",
   "id": "1ff18b55",
   "metadata": {},
   "source": [
    "What is $V_k$?\n",
    "$$\n",
    "    V_k = \\{\\alpha_1 v_1 + \\ldots + \\alpha_k v_k: (\\alpha_1,\\ldots,\\alpha_k) \\in \\mathbb{R}^k\\} =: span(\\{v_1,\\ldots,v_k\\}).\n",
    "$$\n",
    "What do we mean by best fit? Let $\\tilde V_k$ be another $k$-dimensional subspace consider the distance of a point $p$ to the $k$-dimensional subspace $\\tilde V_k$, such a space is spanned by an orthonormal basis $\\tilde v_1, \\ldots, \\tilde v_k$, the distance from $p$ to $\\tilde V_k$ can be seen to be\n",
    "$$\n",
    "    \\|p - proj_{\\tilde V_k} p\\| = \\|p - \\sum_{i=1}^k (\\tilde v_i \\cdot p)\\tilde v_i\\|\n",
    "$$\n",
    "We mean that  $V_k$  is  the $k$-dimensional subspace that minimizes\n",
    "$$\n",
    "    \\sum_{i=1}^n \\|X_i - proj_{\\tilde V_k} X_i\\|^2\n",
    "$$"
   ]
  },
  {
   "cell_type": "markdown",
   "id": "85034424",
   "metadata": {},
   "source": [
    "But we can use the Pythagorean theorem to get\n",
    "$$\n",
    "    \\sum_{i=1}^n \\left (\\|proj_{\\tilde V_k}X_i\\|^2 +  \\|X_i - proj_{\\tilde V_k}X_i\\|^2 \\right ) = \\sum_{i=1}^n \\|X_i\\|^2\n",
    "$$"
   ]
  },
  {
   "cell_type": "markdown",
   "id": "52680de6",
   "metadata": {},
   "source": [
    "and thus we can get\n",
    "$$\n",
    "    \\sum_{i=1}^n \\left (\\|proj_{\\tilde V_k}X_i\\|^2 -  \\|X_i\\|^2 \\right ) = \\sum_{i=1}^n \\|X_i - proj_{\\tilde V_k}X_i\\|^2\n",
    "$$"
   ]
  },
  {
   "cell_type": "markdown",
   "id": "cb2ea1ba",
   "metadata": {},
   "source": [
    "From the above we see that the best fitting subspace is the subspace that maximizes the \"variance\" in the sense that we have seen. The point I am making is that we can rephrase the theorem as saying that finding $v_1,\\ldots,v_k$ in a greedy way by maximizing the variance is the same as directly minimizing the variance of the deviation from the subspace."
   ]
  },
  {
   "cell_type": "code",
   "execution_count": 2,
   "id": "3f6f5dc4",
   "metadata": {},
   "outputs": [],
   "source": [
    "import numpy as np\n",
    "from scipy.optimize import minimize\n",
    "def findFirstSingularVector(A):\n",
    "    '''Takes a matrix of form n x m and returns a tuple of the singular vector and singular value\n",
    "    '''\n",
    "    def negsumofsquares(v):\n",
    "        return -np.sum((A@v)**2)\n",
    "    constraints = ({'type': 'eq', 'fun': lambda w:  1-(np.sum(w**2))})\n",
    "    m = A.shape[1]\n",
    "    random_v = np.random.normal(size=m)\n",
    "    initial_vector=random_v/np.linalg.norm(random_v)\n",
    "    ans1 = minimize(negsumofsquares, x0=initial_vector,constraints=constraints)\n",
    "    if (ans1.success):\n",
    "        return ans1.x,np.sqrt(-ans1.fun)\n",
    "    else:\n",
    "        raise Exception(\"No convergence\")\n",
    "\n",
    "def projectOnPlane(A,normal):\n",
    "    '''Project the rows of A onto the plane given by \"normal * x = 0\"'''\n",
    "    \n",
    "    return A - (A@normal).reshape(-1,1)*normal"
   ]
  },
  {
   "cell_type": "markdown",
   "id": "8e589217",
   "metadata": {},
   "source": [
    "We can now use the code above to find the singular vectors, let us take a look at the example data I plotted above"
   ]
  },
  {
   "cell_type": "code",
   "execution_count": 3,
   "id": "f68af2fc",
   "metadata": {},
   "outputs": [
    {
     "data": {
      "text/plain": [
       "(1000, 2)"
      ]
     },
     "execution_count": 3,
     "metadata": {},
     "output_type": "execute_result"
    }
   ],
   "source": [
    "X.shape"
   ]
  },
  {
   "cell_type": "code",
   "execution_count": 4,
   "id": "fe686d51",
   "metadata": {},
   "outputs": [
    {
     "name": "stdout",
     "output_type": "stream",
     "text": [
      "[-0.70738346 -0.70683   ] 42.755741100521305\n"
     ]
    }
   ],
   "source": [
    "v1,s1 = findFirstSingularVector(X)\n",
    "print(v1,s1)"
   ]
  },
  {
   "cell_type": "code",
   "execution_count": 5,
   "id": "147b8d7d",
   "metadata": {},
   "outputs": [
    {
     "data": {
      "text/plain": [
       "1.000000000047665"
      ]
     },
     "execution_count": 5,
     "metadata": {},
     "output_type": "execute_result"
    }
   ],
   "source": [
    "import numpy as np\n",
    "np.linalg.norm(v1)"
   ]
  },
  {
   "cell_type": "code",
   "execution_count": 6,
   "id": "7c54a4ba",
   "metadata": {},
   "outputs": [
    {
     "data": {
      "text/plain": [
       "0.31224989991991997"
      ]
     },
     "execution_count": 6,
     "metadata": {},
     "output_type": "execute_result"
    }
   ],
   "source": [
    "np.sqrt(1-0.95**2)"
   ]
  },
  {
   "cell_type": "markdown",
   "id": "7cad8584",
   "metadata": {},
   "source": [
    "As we can see this is pretty much identical to the vector in the 45 degree direction. To find the second singular vector, we simply project our data onto the plane spanned by having $v_1$ as the normal."
   ]
  },
  {
   "cell_type": "code",
   "execution_count": 7,
   "id": "d5762fec",
   "metadata": {},
   "outputs": [
    {
     "data": {
      "image/png": "[encoded data removed]",
      "text/plain": [
       "<Figure size 640x480 with 1 Axes>"
      ]
     },
     "metadata": {},
     "output_type": "display_data"
    }
   ],
   "source": [
    "P_1A = projectOnPlane(X,v1)\n",
    "points(P_1A)"
   ]
  },
  {
   "cell_type": "code",
   "execution_count": 8,
   "id": "c54bb39a",
   "metadata": {},
   "outputs": [
    {
     "name": "stdout",
     "output_type": "stream",
     "text": [
      "[-0.70683     0.70738346] 14.70475159908951\n"
     ]
    }
   ],
   "source": [
    "v_2,s2 = findFirstSingularVector(P_1A)\n",
    "print(v_2,s2)"
   ]
  },
  {
   "cell_type": "markdown",
   "id": "270d4e7f",
   "metadata": {},
   "source": [
    "Its clear which direction this is headed. Let us also look at what happens when we project the data onto the plane with normal $v_2$."
   ]
  },
  {
   "cell_type": "code",
   "execution_count": 9,
   "id": "11f5ffc1",
   "metadata": {},
   "outputs": [
    {
     "data": {
      "text/plain": [
       "(-1.0, 1.0)"
      ]
     },
     "execution_count": 9,
     "metadata": {},
     "output_type": "execute_result"
    },
    {
     "data": {
      "image/png": "[encoded data removed]",
      "text/plain": [
       "<Figure size 640x480 with 1 Axes>"
      ]
     },
     "metadata": {},
     "output_type": "display_data"
    }
   ],
   "source": [
    "import matplotlib.pyplot as plt\n",
    "points(projectOnPlane(P_1A,v_2))\n",
    "plt.xlim(-1,1)\n",
    "plt.ylim(-1,1)"
   ]
  },
  {
   "cell_type": "code",
   "execution_count": 10,
   "id": "36311685",
   "metadata": {},
   "outputs": [
    {
     "data": {
      "text/plain": [
       "(1000, 2)"
      ]
     },
     "execution_count": 10,
     "metadata": {},
     "output_type": "execute_result"
    }
   ],
   "source": [
    "X.shape"
   ]
  },
  {
   "cell_type": "code",
   "execution_count": 11,
   "id": "66016515",
   "metadata": {},
   "outputs": [],
   "source": [
    "U,D,VT = np.linalg.svd(X,full_matrices=False)"
   ]
  },
  {
   "cell_type": "code",
   "execution_count": 12,
   "id": "cb221d72",
   "metadata": {},
   "outputs": [
    {
     "data": {
      "text/plain": [
       "(1000, 2)"
      ]
     },
     "execution_count": 12,
     "metadata": {},
     "output_type": "execute_result"
    }
   ],
   "source": [
    "U.shape"
   ]
  },
  {
   "cell_type": "code",
   "execution_count": 13,
   "id": "5b4d3444",
   "metadata": {},
   "outputs": [
    {
     "data": {
      "text/plain": [
       "(2,)"
      ]
     },
     "execution_count": 13,
     "metadata": {},
     "output_type": "execute_result"
    }
   ],
   "source": [
    "D.shape"
   ]
  },
  {
   "cell_type": "code",
   "execution_count": 14,
   "id": "9208cc83",
   "metadata": {},
   "outputs": [
    {
     "data": {
      "text/plain": [
       "(2, 2)"
      ]
     },
     "execution_count": 14,
     "metadata": {},
     "output_type": "execute_result"
    }
   ],
   "source": [
    "VT.shape"
   ]
  },
  {
   "cell_type": "code",
   "execution_count": 15,
   "id": "a6d33bf5",
   "metadata": {},
   "outputs": [
    {
     "data": {
      "text/plain": [
       "(1000, 2)"
      ]
     },
     "execution_count": 15,
     "metadata": {},
     "output_type": "execute_result"
    }
   ],
   "source": [
    "U.shape"
   ]
  },
  {
   "cell_type": "code",
   "execution_count": 16,
   "id": "71bfb681",
   "metadata": {},
   "outputs": [
    {
     "data": {
      "text/plain": [
       "(2, 2)"
      ]
     },
     "execution_count": 16,
     "metadata": {},
     "output_type": "execute_result"
    }
   ],
   "source": [
    "VT.shape"
   ]
  },
  {
   "cell_type": "code",
   "execution_count": 17,
   "id": "4b287b1b",
   "metadata": {},
   "outputs": [],
   "source": [
    "D = np.diag(D)"
   ]
  },
  {
   "cell_type": "code",
   "execution_count": 18,
   "id": "27b2e52e",
   "metadata": {},
   "outputs": [
    {
     "data": {
      "text/plain": [
       "9.385029392135751e-15"
      ]
     },
     "execution_count": 18,
     "metadata": {},
     "output_type": "execute_result"
    }
   ],
   "source": [
    "np.linalg.norm(X-U@D@VT)"
   ]
  },
  {
   "cell_type": "markdown",
   "id": "bd9683ca",
   "metadata": {},
   "source": [
    "**Question: What have we done, two projections in a row? What is the projection of a projection?**"
   ]
  },
  {
   "cell_type": "markdown",
   "id": "4f53bff2",
   "metadata": {},
   "source": [
    "It should be clear from the definition and the \"Greedy Algorithm\" theorem that $proj_{V_m} A = A$. That is, if we use all possible singular vectors, then we can represent the data from $A$ as points in $V_m$. That is any row of $A$ can be written as a linear combination of all the singular vectors.\n",
    "\n",
    "We can now implement `findSingularVectors` using our methods above"
   ]
  },
  {
   "cell_type": "code",
   "execution_count": 19,
   "id": "f293b834",
   "metadata": {},
   "outputs": [],
   "source": [
    "def findSingularVectors(A,k=1):\n",
    "    '''Takes a n x m matrix of points, where the points are on the rows. \n",
    "    It then computes the first k singular vectors with corresponding singular values'''\n",
    "    assert(len(A.shape) == 2), \"A needs to be a 2d matrix\"\n",
    "    assert((1 <= k) and (k <= A.shape[1])), \"We can only compute the number of singular vectors up to the dimension of the data\"\n",
    "    vectors = []\n",
    "    values = []\n",
    "    PA = A\n",
    "    for i in range(k):\n",
    "        v,s = findFirstSingularVector(PA)\n",
    "        PA = projectOnPlane(PA,v)\n",
    "        vectors.append(v)\n",
    "        values.append(s)\n",
    "    return vectors,values"
   ]
  },
  {
   "cell_type": "markdown",
   "id": "9e6d8837",
   "metadata": {},
   "source": [
    "`findSingularVectors` on X is a simple as"
   ]
  },
  {
   "cell_type": "code",
   "execution_count": 20,
   "id": "b39acc35",
   "metadata": {},
   "outputs": [
    {
     "data": {
      "text/plain": [
       "([array([-0.70738344, -0.70683002]), array([ 0.70683009, -0.70738336])],\n",
       " [42.755741098513376, 14.704751598848114])"
      ]
     },
     "execution_count": 20,
     "metadata": {},
     "output_type": "execute_result"
    }
   ],
   "source": [
    "findSingularVectors(X,2)"
   ]
  },
  {
   "cell_type": "code",
   "execution_count": 21,
   "id": "af0aa980",
   "metadata": {},
   "outputs": [],
   "source": [
    "#We can even do 3 dimension\n",
    "Z = np.random.normal(size=(1000,3))"
   ]
  },
  {
   "cell_type": "code",
   "execution_count": 22,
   "id": "0704b0f5",
   "metadata": {},
   "outputs": [
    {
     "data": {
      "text/plain": [
       "([array([ 0.53170904,  0.75643404, -0.38091079]),\n",
       "  array([ 0.69836728, -0.13715254,  0.70247585]),\n",
       "  array([-0.47913377,  0.63952839,  0.60119404])],\n",
       " [34.08913438299825, 32.46549950437043, 31.42400020894136])"
      ]
     },
     "execution_count": 22,
     "metadata": {},
     "output_type": "execute_result"
    }
   ],
   "source": [
    "findSingularVectors(Z,3)"
   ]
  },
  {
   "cell_type": "markdown",
   "id": "1c1ed8a7",
   "metadata": {},
   "source": [
    "**Question: Is this a good way of finding the singular vectors?**"
   ]
  },
  {
   "cell_type": "markdown",
   "id": "96bd24cb",
   "metadata": {},
   "source": [
    "**YouTry:**\n",
    "\n",
    "Test and see what happens if we try to apply our `findSingularValues` on something with more dimensions, like 10 dimension and we would like 5 singular vectors, what happens? Why?"
   ]
  },
  {
   "cell_type": "code",
   "execution_count": null,
   "id": "68c97084",
   "metadata": {},
   "outputs": [],
   "source": []
  },
  {
   "cell_type": "code",
   "execution_count": null,
   "id": "dd260490",
   "metadata": {},
   "outputs": [],
   "source": []
  },
  {
   "cell_type": "code",
   "execution_count": null,
   "id": "d54ff296",
   "metadata": {},
   "outputs": [],
   "source": []
  },
  {
   "cell_type": "markdown",
   "id": "d6a70d82",
   "metadata": {},
   "source": [
    "### Singular Value Decomposition of a Matrix\n",
    "\n",
    "Remember that we said that if we compute $m$ singular vectors of the $n \\times m$ dimensional matrix $A$, then\n",
    "$$\n",
    "    proj_{V_m} A = A\n",
    "$$\n",
    "this implies that we can write each row in $A$ as $X_i = \\sum_{j=1}^m (X_i \\cdot v_j) v_j$ which we can now rewrite as\n",
    "$$\n",
    "    A = \\sum_{j=1}^m A v_j v_j^T\n",
    "$$\n",
    "denoting $u_i:=\\frac{A v_i}{\\sigma_i}$ we see that the above expression becomes\n",
    "$$\n",
    "    A = \\sum_{j=1}^m \\sigma_j u_j v_j^T\n",
    "$$"
   ]
  },
  {
   "cell_type": "markdown",
   "id": "51692ae5",
   "metadata": {},
   "source": [
    "This is the singular value decomposition. I.e. we have decomposed $A$ into a sum of matrices, that is $u_j v_j^T$ is $n \\times m$ matrices."
   ]
  },
  {
   "cell_type": "markdown",
   "id": "2c506371",
   "metadata": {},
   "source": [
    "Rewriting the above equation in matrix format we get\n",
    "$$\n",
    "    A = UDV^T\n",
    "$$\n",
    "where $U$ is the matrix with $u_1,\\ldots$ as the columns, $D$ is a diagonal matrix with $\\sigma_i$ as the diagonal and $V$ is the matrix with $v_i$ as columns of $V$."
   ]
  },
  {
   "cell_type": "markdown",
   "id": "5c34e63f",
   "metadata": {},
   "source": [
    "**Definition**\n",
    "> The vectors $u_i$ are called the `left singular vectors`."
   ]
  },
  {
   "cell_type": "markdown",
   "id": "12887022",
   "metadata": {},
   "source": [
    "# TestQuestion\n",
    "\n",
    "Why does `findSingularVectors` give rise to no-convergence sometimes, specially when we try to extract many singular vectors, say trying to extract 6 singular vectors from 10-d gaussian random vectors?"
   ]
  },
  {
   "cell_type": "markdown",
   "id": "69070d01",
   "metadata": {},
   "source": [
    "# Power method\n",
    "\n",
    "Now let us consider the matrix $A^TA$ this matrix has dimension $m \\times m$, using our decomposition above we obtain that\n",
    "$$\n",
    "    A^T A = (UDV^T)^T(UDV^T) = (VDU^T UDV^T) = VD^2V^T\n",
    "$$\n",
    "since $U^TU = I$ which comes from the fact that the columns are orthonormal. This means that for any column $v_i$ in $V$\n",
    "$$\n",
    "    A^T A v_i = VD^2V^T v_i = \\sigma_i^2 v_i\n",
    "$$\n",
    "so we see that $v_i$ is the $i$:th eigenvector of $A^T A$ with eigenvalue $\\sigma_i^2$.\n",
    "We can thus find the singular vectors by trying to find the eigenvectors of $A^T A$."
   ]
  },
  {
   "cell_type": "markdown",
   "id": "460e39e8",
   "metadata": {},
   "source": [
    "How do we find the eigenvectors of $B = A^T A$? Well first note that\n",
    "$$\n",
    "    B^k = (V D^2 V^T)^k = (V D^{2k} V^T)\n",
    "$$\n",
    "by the same argument as above, i.e. $V^T V = I$. Thus we see that if $\\sigma_1 > \\sigma_2$ then if we let $k$ be large enough then\n",
    "$$\n",
    "    B^k \\approx (\\sigma_1)^{2k} v_1 v_1^T.\n",
    "$$"
   ]
  },
  {
   "cell_type": "code",
   "execution_count": 36,
   "id": "83acf47c-7059-4a57-90e2-42e8dee896df",
   "metadata": {},
   "outputs": [],
   "source": [
    "Z1 = np.random.normal(size=(1000,10))"
   ]
  },
  {
   "cell_type": "code",
   "execution_count": 57,
   "id": "bc28ab07-9fb8-4a29-b7c1-8a9e608d5d41",
   "metadata": {},
   "outputs": [
    {
     "data": {
      "text/plain": [
       "array([ 0.1340326 ,  0.36672159,  0.00438214,  0.09286002, -0.50216988,\n",
       "        0.53414563,  0.19621672, -0.09672148,  0.17136124,  0.4734992 ])"
      ]
     },
     "execution_count": 57,
     "metadata": {},
     "output_type": "execute_result"
    }
   ],
   "source": [
    "U,D,VT = np.linalg.svd(Z1,full_matrices=False)\n",
    "V = VT.T\n",
    "V[:,0]"
   ]
  },
  {
   "cell_type": "code",
   "execution_count": 37,
   "id": "8032c16b",
   "metadata": {},
   "outputs": [
    {
     "name": "stdout",
     "output_type": "stream",
     "text": [
      "(10, 10)\n"
     ]
    }
   ],
   "source": [
    "Z1 = np.random.normal(size=(1000,10))\n",
    "Z1 = Z1-np.mean(Z1,axis=0).reshape(1,-1)\n",
    "B=Z1.T@Z1\n",
    "print(B.shape)"
   ]
  },
  {
   "cell_type": "code",
   "execution_count": 28,
   "id": "f99241bb-725c-482c-972d-246cb6d18dff",
   "metadata": {},
   "outputs": [
    {
     "data": {
      "text/plain": [
       "array([[-8.17401702e-17, -1.37667655e-17, -1.35447209e-17,\n",
       "        -9.54791801e-18,  1.44328993e-17, -1.00364161e-16,\n",
       "         4.76285678e-17,  2.44249065e-18, -3.33066907e-18,\n",
       "         7.99360578e-18]])"
      ]
     },
     "execution_count": 28,
     "metadata": {},
     "output_type": "execute_result"
    }
   ],
   "source": [
    "np.mean(Z1,axis=0).reshape(1,-1)"
   ]
  },
  {
   "cell_type": "code",
   "execution_count": 35,
   "id": "a99862e0",
   "metadata": {},
   "outputs": [],
   "source": [
    "B_0 = B\n",
    "v1_approx = B[:,0]\n",
    "for i in range(200):\n",
    "    B_0 = B@B_0\n",
    "    B_0 = B_0 / np.linalg.norm(B_0) # Just normalize so that we reduce change of overflow\n",
    "    # Take the first column of B_0\n",
    "    b = B_0[:,0]\n",
    "    v1_approx = b/np.linalg.norm(b)"
   ]
  },
  {
   "cell_type": "markdown",
   "id": "c0781ffa",
   "metadata": {},
   "source": [
    "Let us check what result we got"
   ]
  },
  {
   "cell_type": "code",
   "execution_count": 36,
   "id": "b6ff4200",
   "metadata": {},
   "outputs": [
    {
     "data": {
      "text/plain": [
       "array([ 0.49336583, -0.40086629,  0.23590657,  0.03512089, -0.27131397,\n",
       "        0.05277042, -0.17699412,  0.11380161, -0.03193024, -0.64600134])"
      ]
     },
     "execution_count": 36,
     "metadata": {},
     "output_type": "execute_result"
    }
   ],
   "source": [
    "v1_approx"
   ]
  },
  {
   "cell_type": "markdown",
   "id": "e9fac111",
   "metadata": {},
   "source": [
    "The vector we get is supposed to be an eigenvector of $B$, let us check if that is true"
   ]
  },
  {
   "cell_type": "code",
   "execution_count": 37,
   "id": "9f9dcc30",
   "metadata": {
    "scrolled": true
   },
   "outputs": [
    {
     "data": {
      "text/plain": [
       "array([ 1.00033165e-07,  1.23771062e-07,  2.22592922e-08,  4.85857301e-08,\n",
       "        4.90032795e-08,  1.09992676e-07,  9.84959789e-09,  2.32916737e-08,\n",
       "       -2.52069405e-07,  1.26311890e-08])"
      ]
     },
     "execution_count": 37,
     "metadata": {},
     "output_type": "execute_result"
    }
   ],
   "source": [
    "Bv1 = B@v1_approx\n",
    "v1_approx-Bv1/np.linalg.norm(Bv1)"
   ]
  },
  {
   "cell_type": "markdown",
   "id": "0c38d288",
   "metadata": {},
   "source": [
    "Ok, so most components are of order $10^{-7}$, which is fairly accurate. Let us check with numpy's built in SVD and see what we get"
   ]
  },
  {
   "cell_type": "code",
   "execution_count": 38,
   "id": "7a369b96",
   "metadata": {},
   "outputs": [],
   "source": [
    "U,D,VT = np.linalg.svd(Z1,full_matrices=False) # Interestingly enough numpy documentation calls this reduced SVD"
   ]
  },
  {
   "cell_type": "code",
   "execution_count": 39,
   "id": "bf77d787-5ce2-464c-81e2-db7f1a8bec03",
   "metadata": {},
   "outputs": [
    {
     "data": {
      "text/plain": [
       "np.float64(34.28448985219643)"
      ]
     },
     "execution_count": 39,
     "metadata": {},
     "output_type": "execute_result"
    }
   ],
   "source": [
    "np.max(D)"
   ]
  },
  {
   "cell_type": "markdown",
   "id": "247c0d33",
   "metadata": {},
   "source": [
    "SVD from numpy returns $U,D,V.T$ so that we can write `Z1 = U@np.diag(D)@V.T`. Remember that the columns of $V$ is the singular vectors, so we can extract them as follows"
   ]
  },
  {
   "cell_type": "code",
   "execution_count": 40,
   "id": "9f2902c1",
   "metadata": {},
   "outputs": [
    {
     "data": {
      "text/plain": [
       "array([-0.16795384,  0.00289166,  0.31751354,  0.06164156,  0.38276206,\n",
       "       -0.29062332,  0.2563992 ,  0.07808677, -0.75001488,  0.04288931])"
      ]
     },
     "execution_count": 40,
     "metadata": {},
     "output_type": "execute_result"
    }
   ],
   "source": [
    "V = VT.T\n",
    "V[:,0]"
   ]
  },
  {
   "cell_type": "markdown",
   "id": "bf2beee5",
   "metadata": {},
   "source": [
    "We can also check if we get back our original matrix $Z1$ if we multiply everything together"
   ]
  },
  {
   "cell_type": "code",
   "execution_count": 41,
   "id": "02f1370d",
   "metadata": {},
   "outputs": [
    {
     "data": {
      "text/plain": [
       "np.float64(1.426175966165618e-13)"
      ]
     },
     "execution_count": 41,
     "metadata": {},
     "output_type": "execute_result"
    }
   ],
   "source": [
    "# square error is of the order $10^{-13}$, pretty good\n",
    "np.linalg.norm(Z1-(U@np.diag(D)@VT))"
   ]
  },
  {
   "cell_type": "markdown",
   "id": "d25ff956",
   "metadata": {},
   "source": [
    "# TestQuestion\n",
    "\n",
    "Use the power method to compute the first 5 singular vectors for the matrix `problem5_Z` found below. Compute each singular vector to the tolerance of $10^{-6}$, in the following sense, (call $Z=$ `problem5_Z`)\n",
    "$$\n",
    "    \\left \\| v - \\frac{Z^T Z v}{\\|Z^T Z v\\|} \\right \\| < 10^{-6}.\n",
    "$$\n",
    "for the proposed singular unit vector $v$."
   ]
  },
  {
   "cell_type": "code",
   "execution_count": null,
   "id": "84119c19-8245-45da-a724-de439515d8c2",
   "metadata": {},
   "outputs": [],
   "source": []
  },
  {
   "cell_type": "code",
   "execution_count": 27,
   "id": "031e0a4f-e057-41d7-9b1c-4baa839712d4",
   "metadata": {},
   "outputs": [
    {
     "name": "stdout",
     "output_type": "stream",
     "text": [
      "NumPy's singular values:\n",
      "[5.17872033 4.24834597 4.05180868 3.03012925 2.16140482 2.00585042\n",
      " 1.50885162 0.87741701 0.6868477  0.22548745]\n",
      "\n",
      "Custom singular values:\n",
      "[5.17872033 4.24834597 4.05180868 3.03012925 2.16140482 2.00585042\n",
      " 1.50885162 0.87741701 0.6868477  0.22548745]\n",
      "\n",
      "Reconstruction error with NumPy's SVD: 1.091349778616336e-14\n",
      "Reconstruction error with Custom SVD: 1.8635647934058815e-15\n",
      "\n",
      "Difference between the two reconstructions: 1.0782617239942618e-14\n"
     ]
    }
   ],
   "source": [
    "import numpy as np\n",
    "\n",
    "def largest_singular_vector(A, tol=1e-6, max_iter=1000):\n",
    "    \"\"\"\n",
    "    Use the power method to find the dominant singular value (sigma)\n",
    "    and the corresponding left (u) and right (v) singular vectors of A.\n",
    "    Convergence check uses:\n",
    "        ||v - (A^T A v) / ||A^T A v|| || < tol\n",
    "    Returns:\n",
    "        sigma, u, v\n",
    "    \"\"\"\n",
    "    m, n = A.shape\n",
    "\n",
    "    # Random initial guess for right singular vector v\n",
    "    v = np.random.randn(n)\n",
    "    v /= np.linalg.norm(v)\n",
    "\n",
    "    for _ in range(max_iter):\n",
    "        w = A.T @ (A @ v)              # This is A^T A v\n",
    "        w_norm = np.linalg.norm(w)\n",
    "\n",
    "        # Handle degenerate case\n",
    "        if w_norm < 1e-14:\n",
    "            break\n",
    "\n",
    "        w_normalized = w / w_norm\n",
    "\n",
    "        # Convergence check\n",
    "        if np.linalg.norm(v - w_normalized) < tol:\n",
    "            v = w_normalized\n",
    "            break\n",
    "\n",
    "        v = w_normalized\n",
    "\n",
    "    # Having converged on v, compute corresponding singular value:\n",
    "    #   sigma = ||A v||\n",
    "    sigma = np.linalg.norm(A @ v)\n",
    "\n",
    "    # Compute left singular vector u = (A v) / sigma\n",
    "    if sigma < 1e-14:\n",
    "        # Degenerate case: zero singular value\n",
    "        u = np.zeros(m)\n",
    "    else:\n",
    "        u = (A @ v) / sigma\n",
    "\n",
    "    return sigma, u, v\n",
    "\n",
    "\n",
    "def custom_svd(A, tol=1e-5, max_iter=1000):\n",
    "    \"\"\"\n",
    "    Compute the full SVD of A using repeated power iteration + deflation.\n",
    "    Returns U, S, VT with shapes matching np.linalg.svd(..., full_matrices=False).\n",
    "    \"\"\"\n",
    "    # Make a copy so as not to overwrite original A\n",
    "    A_work = A.copy().astype(float)\n",
    "    m, n = A_work.shape\n",
    "    r = min(m, n)\n",
    "\n",
    "    # Arrays to store singular values/vectors\n",
    "    singular_values = np.zeros(r, dtype=float)\n",
    "    U = np.zeros((m, r), dtype=float)\n",
    "    Vt = np.zeros((r, n), dtype=float)\n",
    "\n",
    "    for i in range(r):\n",
    "        sigma_i, u_i, v_i = largest_singular_vector(A_work, tol=tol, max_iter=max_iter)\n",
    "\n",
    "        # Store results\n",
    "        singular_values[i] = sigma_i\n",
    "        U[:, i] = u_i\n",
    "        Vt[i, :] = v_i\n",
    "\n",
    "        # Deflate the matrix: A <- A - sigma_i * u_i * v_i^T\n",
    "        # so that subsequent calls find smaller singular values\n",
    "        A_work -= sigma_i * np.outer(u_i, v_i)\n",
    "\n",
    "    # Sort singular values (and corresponding singular vectors) in descending order\n",
    "    # because the deflation approach can sometimes produce them in non-monotonic order\n",
    "    idx_sort = np.argsort(-singular_values)  # sort descending\n",
    "    singular_values = singular_values[idx_sort]\n",
    "    U = U[:, idx_sort]\n",
    "    Vt = Vt[idx_sort, :]\n",
    "\n",
    "    # Fix signs to match NumPy's convention as best we can\n",
    "    # (If v_i or u_i differs by a sign, that’s still a valid SVD — we just flip it.)\n",
    "    # We'll align them so that each left singular vector's largest absolute entry is positive,\n",
    "    # or, if that's zero, we look at the first entry, etc.\n",
    "    for i in range(r):\n",
    "        # Heuristic: if the sum of the entries in U[:, i] is negative, flip both U and Vt rows\n",
    "        if np.sum(U[:, i]) < 0:\n",
    "            U[:, i] = -U[:, i]\n",
    "            Vt[i, :] = -Vt[i, :]\n",
    "\n",
    "    return U, singular_values, Vt\n",
    "\n",
    "\n",
    "def demo():\n",
    "    \"\"\"\n",
    "    Demonstrate that custom_svd() yields results close to numpy.linalg.svd().\n",
    "    We compare for a 10x10 matrix as requested.\n",
    "    \"\"\"\n",
    "    np.random.seed(42)  # for reproducibility\n",
    "\n",
    "    # Generate a random 10x10 matrix\n",
    "    A = np.random.randn(10, 10)\n",
    "\n",
    "    # NumPy's SVD (economy size)\n",
    "    U_np, S_np, Vt_np = np.linalg.svd(A, full_matrices=False)\n",
    "\n",
    "    # Custom SVD\n",
    "    U_c, S_c, Vt_c = custom_svd(A, tol=1e-6, max_iter=5000)\n",
    "\n",
    "    # Compare singular values\n",
    "    print(\"NumPy's singular values:\")\n",
    "    print(S_np)\n",
    "    print(\"\\nCustom singular values:\")\n",
    "    print(S_c)\n",
    "\n",
    "    # Compare the reconstruction error: A vs U S V^T\n",
    "    A_reconstructed_np = U_np @ np.diag(S_np) @ Vt_np\n",
    "    A_reconstructed_c = U_c @ np.diag(S_c) @ Vt_c\n",
    "\n",
    "    print(\"\\nReconstruction error with NumPy's SVD:\",\n",
    "          np.linalg.norm(A - A_reconstructed_np))\n",
    "    print(\"Reconstruction error with Custom SVD:\",\n",
    "          np.linalg.norm(A - A_reconstructed_c))\n",
    "\n",
    "    # Also compare how close the two decompositions are to each other\n",
    "    # We'll just look at the difference in reconstructed matrices\n",
    "    print(\"\\nDifference between the two reconstructions:\",\n",
    "          np.linalg.norm(A_reconstructed_np - A_reconstructed_c))\n",
    "\n",
    "\n",
    "demo()\n"
   ]
  },
  {
   "cell_type": "code",
   "execution_count": 28,
   "id": "a7007cb4",
   "metadata": {},
   "outputs": [],
   "source": [
    "import numpy as np\n",
    "\n",
    "problem5_Z = np.array([[ 1.21395528,  0.61319117,  0.96775704,  0.47560786,  0.46944868,\n",
    "                        -0.96174286, -0.04597716,  1.11423879, -2.16790516,  1.41559609],\n",
    "                       [-1.74579582, -2.96579703, -1.53883473, -2.08891653, -2.51835633,\n",
    "                         0.28005013,  3.14477698,  0.27859531, -0.21063502,  1.21238791],\n",
    "                       [-1.38846711, -2.36561478,  2.00400938, -0.81219207,  0.76351148,\n",
    "                        -0.94135869,  1.81624568,  0.30603084,  0.4502897 , -1.68275369],\n",
    "                       [-0.83770176, -1.12651679,  0.72947716,  0.28293936, -1.54650026,\n",
    "                         1.47451872,  0.58828722,  2.63367002, -1.75123164,  0.20599531],\n",
    "                       [ 0.16922431,  0.07605318,  0.87850331,  0.45439765, -0.36589416,\n",
    "                        -1.16866643,  1.00148338, -2.24790302, -1.03375691,  0.66441057],\n",
    "                       [ 0.18417791, -0.6944261 ,  0.11811434, -0.02291727, -3.49209616,\n",
    "                         2.567174  , -0.79506183, -0.61917615, -0.25294073, -0.44972644],\n",
    "                       [ 0.21973089,  0.58409936,  0.05358338,  0.09448722,  1.18545664,\n",
    "                         0.09458799, -1.45002309,  1.38528763, -0.26669331, -0.02398977],\n",
    "                       [-0.77246978, -1.29899321,  0.32673874,  0.41253631,  0.9496008 ,\n",
    "                         0.23276985, -0.44480295, -1.70329931,  0.74889995,  0.10723953],\n",
    "                       [ 0.87892498,  1.51055297,  0.99208142,  0.15116986, -0.419831  ,\n",
    "                        -1.51231948,  2.44759401, -0.34096878,  0.78995641,  0.1464366 ],\n",
    "                       [ 0.4855678 , -0.49584481,  0.97413157, -1.44802482,  0.4773462 ,\n",
    "                         0.08619087, -1.15799392, -0.3331743 , -1.40555249, -0.76420582]])\n",
    "\n",
    "# replace XXX with the computed singular vectors put together in a numpy array of the shape\n",
    "# (5,10). So each row is a singular vector and ordered in decending order:\n",
    "# first singular vector on first row etc.\n",
    "# U,D,VT = np.linalg.svd(problem5_Z,full_matrices=False)\n",
    "U,D,VT = custom_svd(problem5_Z)\n",
    "V = VT.T\n",
    "first_five_singular_vectors = V[:,:5].T"
   ]
  },
  {
   "cell_type": "code",
   "execution_count": 30,
   "id": "13996f7b",
   "metadata": {},
   "outputs": [
    {
     "name": "stdout",
     "output_type": "stream",
     "text": [
      "Singular vector 1 incorrect\n",
      "Its either wrong or you did cheat! Dont use numpy.svd write your own code! Remember compute to precision 10^(-6)\n",
      "Singular vector 2 incorrect\n",
      "Its either wrong or you did cheat! Dont use numpy.svd write your own code! Remember compute to precision 10^(-6)\n",
      "Singular vector 3 incorrect\n",
      "Its either wrong or you did cheat! Dont use numpy.svd write your own code! Remember compute to precision 10^(-6)\n",
      "Singular vector 4 incorrect\n",
      "Its either wrong or you did cheat! Dont use numpy.svd write your own code! Remember compute to precision 10^(-6)\n",
      "Singular vector 5 incorrect\n",
      "Its either wrong or you did cheat! Dont use numpy.svd write your own code! Remember compute to precision 10^(-6)\n",
      "You have passed the test for this problem, congratulations!\n",
      "The number of points you have scored for this problem so far = 0\n"
     ]
    }
   ],
   "source": [
    "# Testcell\n",
    "\n",
    "local_points=0\n",
    "\n",
    "try:\n",
    "    import numpy as np\n",
    "    problem5_answer=np.array([[ 0.32065325,  0.53900444,  0.09356045,  0.25556044,  0.52719521,\n",
    "       -0.20401069, -0.45327304, -0.07215404,  0.03412725, -0.03476398],\n",
    "                         [ 0.098965  ,  0.07623664, -0.16995098,  0.08072382, -0.3485694 ,\n",
    "        0.57549099, -0.56745898,  0.33191372, -0.2513528 ,  0.03080728],\n",
    "                         [ 0.06708422,  0.02228414,  0.29541748, -0.01999769,  0.14763549,\n",
    "       -0.23413362,  0.23929551,  0.70627663, -0.50364261,  0.14481729],\n",
    "                         [ 0.32496783,  0.48773113, -0.17988031,  0.16765514, -0.49023105,\n",
    "       -0.12218743,  0.34029333, -0.17990397, -0.10206726,  0.42686077],\n",
    "                         [ 0.16666869, -0.15579472,  0.63618711,  0.02305179, -0.20672361,\n",
    "        0.02040642, -0.11854824, -0.4919846 , -0.47101739, -0.14687796]])\n",
    "    \n",
    "    assert (type(first_five_singular_vectors) == np.ndarray)\n",
    "    assert (first_five_singular_vectors.shape == (5,10))\n",
    "    \n",
    "    for i in range(5):\n",
    "        if ((np.linalg.norm(first_five_singular_vectors[i,:]-problem5_answer[i,:]) < 10^(-4))\n",
    "            and np.linalg.norm(first_five_singular_vectors[i,:]-problem5_answer[i,:]) > 10^(-7)):\n",
    "            local_points+=RR(3/5)\n",
    "        else:\n",
    "            print(\"Singular vector %d incorrect\" % (i+1))\n",
    "            print(\"Its either wrong or you did cheat! Dont use numpy.svd write your own code! Remember compute to precision 10^(-6)\")\n",
    "except Exception as e:\n",
    "    print(e)\n",
    "    print(\"You have failed to pass the test. Try again...\")\n",
    "else:\n",
    "    print(\"You have passed the test for this problem, congratulations!\")\n",
    "finally:\n",
    "    local_points = int(local_points)\n",
    "    print(\"The number of points you have scored for this problem so far = \"+str(local_points))"
   ]
  },
  {
   "cell_type": "markdown",
   "id": "81eae8ef",
   "metadata": {},
   "source": [
    "# PCA\n",
    "\n",
    "What is PCA, well basically it is a coordinate transformation from the original coordinates to the coordinate system given by the singular vectors. Since $V$ is orthonormal it is as simple as a product, i.e.\n",
    "\n",
    "$$\n",
    "    A = UDV^T\n",
    "$$\n",
    "Recall that each row in $A$ is a data point i.e. an $m$ dimensional vector and that $V$ is an orthonormal basis, as such we project each point in $A$ onto each basis vector from $V$ by using dot products, as in $(X_i \\cdot v_i)v_i$, the coordinate in the basis is just $X_i \\cdot v_i$, and as such we get\n",
    "$$\n",
    "    PCA(A) = AV =  UDV^TV = UD\n",
    "$$\n",
    "Lets try it out"
   ]
  },
  {
   "cell_type": "code",
   "execution_count": 42,
   "id": "47a83931",
   "metadata": {},
   "outputs": [
    {
     "data": {
      "text/plain": [
       "array([[ 0.88245432,  1.44179555, -0.65094475, ...,  0.18819282,\n",
       "        -0.8226549 ,  1.09291446],\n",
       "       [-1.21887898,  0.61106211,  0.50590681, ...,  1.05481902,\n",
       "         2.0922516 ,  0.76918731],\n",
       "       [ 0.48005886,  0.40670119, -0.89704304, ..., -0.90851413,\n",
       "         0.47566662, -0.08170748],\n",
       "       ...,\n",
       "       [ 1.59630544,  0.07448955, -0.08247073, ...,  0.60005196,\n",
       "        -0.05373511, -0.26548801],\n",
       "       [ 1.72510336, -0.54233954,  1.90403068, ...,  0.90303271,\n",
       "        -0.96150627,  0.0711102 ],\n",
       "       [ 1.01804682, -0.33377669, -1.2230921 , ..., -1.54959347,\n",
       "         1.41353136,  0.70698628]])"
      ]
     },
     "execution_count": 42,
     "metadata": {},
     "output_type": "execute_result"
    }
   ],
   "source": [
    "U@np.diag(D)"
   ]
  },
  {
   "cell_type": "code",
   "execution_count": 43,
   "id": "13978575",
   "metadata": {},
   "outputs": [
    {
     "data": {
      "text/plain": [
       "array([[ 1.88535593, -1.00104034,  1.94786533, ...,  0.3818243 ,\n",
       "        -0.17176737,  0.71623355],\n",
       "       [ 0.07687971, -0.54609095, -0.50657311, ..., -1.67305606,\n",
       "         1.11584935,  2.0627788 ],\n",
       "       [ 0.22986902,  0.57540796,  1.09724553, ...,  0.4937698 ,\n",
       "         0.49908599,  1.06778083],\n",
       "       ...,\n",
       "       [-0.30956495, -0.31279665,  0.88554772, ..., -0.67583971,\n",
       "        -1.10410737,  0.21544668],\n",
       "       [-0.78907601, -0.54962896,  0.31870038, ..., -1.94603624,\n",
       "        -0.87772617, -1.08455759],\n",
       "       [-0.97651447,  0.39186177,  1.09580527, ...,  2.06691326,\n",
       "         0.11797867,  0.94171917]])"
      ]
     },
     "execution_count": 43,
     "metadata": {},
     "output_type": "execute_result"
    }
   ],
   "source": [
    "(Z1@V)@V.T"
   ]
  },
  {
   "cell_type": "markdown",
   "id": "d1a5ebc2",
   "metadata": {},
   "source": [
    "##  PCA class\n",
    "\n",
    "since we dont all have `sklearn` lets implement our own PCA class that we can use from now."
   ]
  },
  {
   "cell_type": "code",
   "execution_count": 44,
   "id": "9efd6470",
   "metadata": {},
   "outputs": [],
   "source": [
    "import numpy as np\n",
    "\n",
    "class PCA(object):\n",
    "\n",
    "    def __init__(self,n_components):\n",
    "        self.n_components =  n_components\n",
    "        self.components=None\n",
    "        self.singular_values=None\n",
    "        self.dimension=None\n",
    "        self.mean=None\n",
    "\n",
    "    def fit(self,X):\n",
    "        assert(type(X) == np.ndarray), \"Please input type np.ndarray!\"\n",
    "        assert(len(X.shape) == 2), \"Please input 2d array!\"\n",
    "        assert(min(X.shape[1],X.shape[0]) >= self.n_components), \"min(X.shape[1],X.shape[0]) >= self.n_components!\"\n",
    "        print(\"Number of data_points: %d, number of features: %d, Number of components: %d\" %(X.shape[0],X.shape[1],self.n_components))\n",
    "        \n",
    "        X = self._center(X) # Make sure the data is centered (each feature has empirical mean zero)\n",
    "        self.dimension=X.shape[1] # This is the dimension of the data\n",
    "        self.components,self.singular_values = self._compute(X) # Compute the singular vectors\n",
    "        \n",
    "    def _center(self,X):\n",
    "        self.mean = np.mean(X,axis=0).reshape(1,-1)\n",
    "        return X-self.mean\n",
    "        \n",
    "    def transform(self,X):\n",
    "        if (type(self.components) == None):\n",
    "            raise Exception(\"Not fitted yet!\")\n",
    "        \n",
    "        assert(type(X) == np.ndarray), \"Please input type np.ndarray!\"\n",
    "        assert(len(X.shape) == 2), \"Please input 2d array!\"\n",
    "        assert(X.shape[1] == self.dimension), \"Incorrect number of features!\"\n",
    "        \n",
    "        return (X-self.mean)@self.components\n",
    "    \n",
    "    def inverse_transform(self,X):\n",
    "        if (type(self.components) == None):\n",
    "            raise Exception(\"Not fitted yet!\")\n",
    "        \n",
    "        assert(type(X) == np.ndarray), \"Please input type np.ndarray!\"\n",
    "        assert(len(X.shape) == 2), \"Please input 2d array!\"\n",
    "        assert(X.shape[1] == self.n_components), \"Incorrect number of features!\"\n",
    "        \n",
    "        return X@self.components.T+self.mean\n",
    "    \n",
    "    def project(self,X):\n",
    "        return self.inverse_transform(self.transform(X))\n",
    "        \n",
    "    def _compute(self,X):\n",
    "        U,D,VT = np.linalg.svd(X,full_matrices=False)\n",
    "        return (VT.T)[:,:self.n_components],D\n",
    "    \n",
    "    def get_components(self):\n",
    "        return self.components\n",
    "    def get_dimension(self):\n",
    "        return self.dimension"
   ]
  },
  {
   "cell_type": "code",
   "execution_count": 45,
   "id": "83b24746",
   "metadata": {},
   "outputs": [],
   "source": [
    "pca = PCA(2)"
   ]
  },
  {
   "cell_type": "code",
   "execution_count": 46,
   "id": "c3bc3b20",
   "metadata": {},
   "outputs": [
    {
     "name": "stdout",
     "output_type": "stream",
     "text": [
      "Number of data_points: 1000, number of features: 10, Number of components: 2\n"
     ]
    }
   ],
   "source": [
    "pca.fit(Z1)"
   ]
  },
  {
   "cell_type": "markdown",
   "id": "63981424",
   "metadata": {},
   "source": [
    "# SVD in Action\n",
    "\n",
    "This is all cool and such, but what can you do with it?"
   ]
  },
  {
   "cell_type": "markdown",
   "id": "24e787d9",
   "metadata": {},
   "source": [
    "Singular value decomposition can be used in the following ways\n",
    "\n",
    "## Factor Analysis\n",
    "\n",
    "* Studying underlying factors. The famous `g factor`: proposed by Spearman (Spearman correlation), to describe \"general intelligence\" as a singular vector based on data about IQ, Math ability and other cognitive tests. This is also called Factor analysis."
   ]
  },
  {
   "cell_type": "code",
   "execution_count": null,
   "id": "1c39a43f",
   "metadata": {},
   "outputs": [],
   "source": [
    "def showURL(url, ht=500):\n",
    "    \"\"\"Return an IFrame of the url to show in notebook with height ht\"\"\"\n",
    "    from IPython.display import IFrame\n",
    "    return IFrame(url, width='95%', height=ht) \n",
    "showURL('https://en.wikipedia.org/wiki/G_factor_(psychometrics)#Factor_structure_of_cognitive_abilities',300)"
   ]
  },
  {
   "cell_type": "code",
   "execution_count": null,
   "id": "b9ed77a0",
   "metadata": {},
   "outputs": [],
   "source": [
    "showURL('https://en.wikipedia.org/wiki/Principal_component_analysis#Applications')"
   ]
  },
  {
   "cell_type": "markdown",
   "id": "c5863dd7",
   "metadata": {},
   "source": [
    "* Compressing a representation of data, as a dimensional reduction technique. This is similar to the rank $k$ approximation idea."
   ]
  },
  {
   "cell_type": "markdown",
   "id": "1fd9d5f7",
   "metadata": {},
   "source": [
    "## Example on compressing data"
   ]
  },
  {
   "cell_type": "code",
   "execution_count": 47,
   "id": "20b743bb",
   "metadata": {},
   "outputs": [],
   "source": [
    "def load_digits():\n",
    "    import csv\n",
    "    data = []\n",
    "    target = []\n",
    "    with open('data/digits.csv', mode='r') as f:\n",
    "        reader = csv.reader(f)\n",
    "        header = next(reader)\n",
    "        for row in reader:\n",
    "            data.append([float(x) for x in row[:-1]])\n",
    "            target.append(int(row[-1]))\n",
    "    return np.array(data),np.array(target)"
   ]
  },
  {
   "cell_type": "code",
   "execution_count": 48,
   "id": "96209808",
   "metadata": {},
   "outputs": [],
   "source": [
    "X,Y = load_digits()"
   ]
  },
  {
   "cell_type": "code",
   "execution_count": 49,
   "id": "408a673f",
   "metadata": {},
   "outputs": [
    {
     "data": {
      "image/png": "[encoded data removed]",
      "text/plain": [
       "<Figure size 640x480 with 10 Axes>"
      ]
     },
     "metadata": {},
     "output_type": "display_data"
    }
   ],
   "source": [
    "import matplotlib.pyplot as plt\n",
    "fig, ax = plt.subplots(2,5)\n",
    "plt.gray()\n",
    "for i in range(10):\n",
    "    row = i//5\n",
    "    column = i % 5\n",
    "    ax[row,column].imshow(X[i,:].reshape(8,8))"
   ]
  },
  {
   "cell_type": "code",
   "execution_count": 50,
   "id": "63157cfa",
   "metadata": {},
   "outputs": [],
   "source": [
    "pca_digit = PCA(10)"
   ]
  },
  {
   "cell_type": "code",
   "execution_count": 51,
   "id": "d896a68b",
   "metadata": {},
   "outputs": [
    {
     "name": "stdout",
     "output_type": "stream",
     "text": [
      "Number of data_points: 1797, number of features: 64, Number of components: 10\n"
     ]
    }
   ],
   "source": [
    "pca_digit.fit(X)"
   ]
  },
  {
   "cell_type": "code",
   "execution_count": 52,
   "id": "a2d85ff5",
   "metadata": {},
   "outputs": [
    {
     "data": {
      "text/plain": [
       "(1797, 64)"
      ]
     },
     "execution_count": 52,
     "metadata": {},
     "output_type": "execute_result"
    }
   ],
   "source": [
    "X.shape"
   ]
  },
  {
   "cell_type": "code",
   "execution_count": 53,
   "id": "f24d5359",
   "metadata": {},
   "outputs": [
    {
     "name": "stdout",
     "output_type": "stream",
     "text": [
      "Number of data_points: 1797, number of features: 64, Number of components: 10\n"
     ]
    }
   ],
   "source": [
    "pca = PCA(n_components=10)\n",
    "pca.fit(X)"
   ]
  },
  {
   "cell_type": "code",
   "execution_count": 54,
   "id": "d737d504",
   "metadata": {},
   "outputs": [
    {
     "data": {
      "image/png": "[encoded data removed]",
      "text/plain": [
       "<Figure size 640x480 with 10 Axes>"
      ]
     },
     "metadata": {},
     "output_type": "display_data"
    }
   ],
   "source": [
    "X_projected = pca.inverse_transform(pca.transform(X))\n",
    "fig, ax = plt.subplots(2,5)\n",
    "plt.gray()\n",
    "for i in range(10):\n",
    "    row = i//5\n",
    "    column = i % 5\n",
    "    ax[row,column].imshow(X_projected[i,:].reshape(8,8))"
   ]
  },
  {
   "cell_type": "code",
   "execution_count": 55,
   "id": "bd4af80a",
   "metadata": {},
   "outputs": [],
   "source": [
    "A= np.array([[0,0,0,1,1,0,0,0],\n",
    "          [0,0,1,1,1,1,0,0],\n",
    "          [0,1,0,0,0,0,1,0],\n",
    "          [1,1,0,0,0,0,1,1],\n",
    "          [1,1,1,1,1,1,1,1],\n",
    "          [1,1,1,1,1,1,1,1],\n",
    "          [1,1,0,0,0,0,1,1],\n",
    "          [1,1,0,0,0,0,1,1]])"
   ]
  },
  {
   "cell_type": "code",
   "execution_count": 56,
   "id": "7e67bc24",
   "metadata": {},
   "outputs": [
    {
     "data": {
      "text/plain": [
       "<matplotlib.image.AxesImage at 0x11b835eb0>"
      ]
     },
     "execution_count": 56,
     "metadata": {},
     "output_type": "execute_result"
    },
    {
     "data": {
      "image/png": "[encoded data removed]",
      "text/plain": [
       "<Figure size 640x480 with 1 Axes>"
      ]
     },
     "metadata": {},
     "output_type": "display_data"
    }
   ],
   "source": [
    "A_proj = pca.inverse_transform(pca.transform(A.reshape(1,-1)))\n",
    "plt.imshow(A_proj.reshape(8,8))"
   ]
  },
  {
   "cell_type": "markdown",
   "id": "5b4d652b",
   "metadata": {},
   "source": [
    "### Explained variance\n",
    "\n",
    "Explained variance is how much percentage of the total variance is captured by our singular vectors. Remember the interpretation of the singular values as the standard deviation, as such the variance explained of the first $k$ components is just the sum of the singular values squared and divided by the total variance."
   ]
  },
  {
   "cell_type": "code",
   "execution_count": 57,
   "id": "ef150fbc",
   "metadata": {},
   "outputs": [],
   "source": [
    "variances = pca_digit.singular_values**2/(X.shape[0]-1)"
   ]
  },
  {
   "cell_type": "code",
   "execution_count": 58,
   "id": "1fd6522e",
   "metadata": {},
   "outputs": [
    {
     "data": {
      "text/plain": [
       "array([0.14890594, 0.28509365, 0.40303959, 0.48713938, 0.54496353,\n",
       "       0.59413263, 0.6372925 , 0.67390623, 0.70743871, 0.73822677,\n",
       "       0.76195018, 0.78467714, 0.80289578, 0.82063433, 0.83530534,\n",
       "       0.84940249, 0.86258838, 0.87506976, 0.88524694, 0.89430312,\n",
       "       0.9031985 , 0.91116973, 0.91884467, 0.9260737 , 0.93303259,\n",
       "       0.9389934 , 0.94474955, 0.94990113, 0.95479652, 0.9590854 ,\n",
       "       0.96282146, 0.96635421, 0.96972105, 0.97300135, 0.97608455,\n",
       "       0.97902234, 0.98158823, 0.98386565, 0.98608843, 0.98820273,\n",
       "       0.99010182, 0.99168835, 0.99319995, 0.99460574, 0.99577196,\n",
       "       0.99684689, 0.99781094, 0.99858557, 0.99914278, 0.99954711,\n",
       "       0.99975703, 0.99983951, 0.99989203, 0.99994255, 0.99997555,\n",
       "       0.99998798, 0.99999503, 0.99999804, 0.99999911, 0.99999966,\n",
       "       1.        , 1.        , 1.        , 1.        ])"
      ]
     },
     "execution_count": 58,
     "metadata": {},
     "output_type": "execute_result"
    }
   ],
   "source": [
    "np.cumsum(variances/np.sum(variances))"
   ]
  },
  {
   "cell_type": "markdown",
   "id": "dc7a11f2",
   "metadata": {},
   "source": [
    "### Decorrelation\n",
    "Note that since the singular vectors are orthogonal, we immediately have that the transformed values always have zero correlation."
   ]
  },
  {
   "cell_type": "markdown",
   "id": "67810eaf",
   "metadata": {},
   "source": [
    "## Another example on compressing data, building a classifier"
   ]
  },
  {
   "cell_type": "code",
   "execution_count": 59,
   "id": "15bc3771",
   "metadata": {},
   "outputs": [],
   "source": [
    "import csv\n",
    "features = []\n",
    "labels = []\n",
    "with open('data/leukemia.csv',mode='r') as f:\n",
    "    reader = csv.reader(f)\n",
    "    header=next(f)\n",
    "    for row in reader:\n",
    "        features.append(np.array(row[:-1],dtype=float))\n",
    "        labels.append((row[-1] == 'ALL')*1)\n",
    "\n",
    "X = np.stack(features,axis=0)\n",
    "Y = np.array(labels)\n",
    "\n",
    "# https://github.com/mavaladezt/kNN-from-Scratch\n",
    "\n",
    "def knn_distances(xTrain,xTest,k):\n",
    "    \"\"\"\n",
    "    Finds the k nearest neighbors of xTest in xTrain.\n",
    "    Input:\n",
    "    xTrain = n x d matrix. n=rows and d=features\n",
    "    xTest = m x d matrix. m=rows and d=features (same amount of features as xTrain)\n",
    "    k = number of nearest neighbors to be found\n",
    "    Output:\n",
    "    dists = distances between all xTrain and all XTest points. Size of n x m\n",
    "    indices = k x m matrix with the indices of the yTrain labels that represent the point\n",
    "    \"\"\"\n",
    "    #the following formula calculates the Euclidean distances.\n",
    "    import numpy as np\n",
    "    distances = -2 * xTrain@xTest.T + np.sum(xTest**2,axis=1) + np.sum(xTrain**2,axis=1)[:, np.newaxis]\n",
    "    #because of float precision, some small numbers can become negatives. Need to be replace with 0.\n",
    "    distances[distances < 0] = 0\n",
    "    distances = distances**.5\n",
    "    indices = np.argsort(distances, 0) #get indices of sorted items\n",
    "    distances = np.sort(distances,0) #distances sorted in axis 0\n",
    "    #returning the top-k closest distances.\n",
    "    return indices[0:k,:], distances[0:k,:]\n",
    "\n",
    "def knn_predictions(xTrain,yTrain,xTest=None,k=3):\n",
    "    \"\"\"\n",
    "    Uses xTrain and yTrain to predict xTest.\n",
    "    Input:\n",
    "    xTrain = n x d matrix. n=rows and d=features\n",
    "    yTrain = n x 1 array. n=rows with label value\n",
    "    xTest = m x d matrix. m=rows and d=features (same amount of features as xTrain)\n",
    "    k = number of nearest neighbors to be found\n",
    "    Output:\n",
    "    predictions = predicted labels, ie preds(i) is the predicted label of xTest(i,:)\n",
    "    \"\"\"\n",
    "    import numpy as np\n",
    "    if (xTest == None):\n",
    "        xTest = xTrain\n",
    "        \n",
    "    indices, distances = knn_distances(xTrain,xTest,k)\n",
    "    yTrain = yTrain.flatten()\n",
    "    rows, columns = indices.shape\n",
    "    predictions = list()\n",
    "    for j in range(columns):\n",
    "        temp = list()\n",
    "        for i in range(rows):\n",
    "            cell = indices[i][j]\n",
    "            temp.append(yTrain[cell])\n",
    "        predictions.append(max(temp,key=temp.count)) #this is the key function, brings the mode value\n",
    "    predictions=np.array(predictions)\n",
    "    return predictions\n",
    "\n",
    "def score(prediction,true_values):\n",
    "    return np.sum(prediction == true_values)/len(prediction)"
   ]
  },
  {
   "cell_type": "code",
   "execution_count": 60,
   "id": "9c71dcfc",
   "metadata": {},
   "outputs": [
    {
     "data": {
      "text/plain": [
       "np.float64(0.9583333333333334)"
      ]
     },
     "execution_count": 60,
     "metadata": {},
     "output_type": "execute_result"
    }
   ],
   "source": [
    "score(knn_predictions(X,Y,k=5),Y)"
   ]
  },
  {
   "cell_type": "code",
   "execution_count": 61,
   "id": "c2733ca3",
   "metadata": {},
   "outputs": [
    {
     "name": "stdout",
     "output_type": "stream",
     "text": [
      "Number of data_points: 72, number of features: 7129, Number of components: 2\n"
     ]
    }
   ],
   "source": [
    "k = 2\n",
    "pca_leukemia = PCA(n_components=k)\n",
    "pca_leukemia.fit(X)\n",
    "X_leukemia_project = pca_leukemia.transform(X)"
   ]
  },
  {
   "cell_type": "code",
   "execution_count": 62,
   "id": "84b5bdef",
   "metadata": {},
   "outputs": [
    {
     "data": {
      "text/plain": [
       "np.float64(0.9583333333333334)"
      ]
     },
     "execution_count": 62,
     "metadata": {},
     "output_type": "execute_result"
    }
   ],
   "source": [
    "score(knn_predictions(X_leukemia_project,Y,k=5),Y)"
   ]
  },
  {
   "cell_type": "code",
   "execution_count": 63,
   "id": "499be7f3",
   "metadata": {},
   "outputs": [
    {
     "data": {
      "image/png": "[encoded data removed]",
      "text/plain": [
       "<Figure size 640x480 with 1 Axes>"
      ]
     },
     "metadata": {},
     "output_type": "display_data"
    }
   ],
   "source": [
    "def standardScaler(X_in):\n",
    "    '''Takes an array of shape (n_samples,n_features) and centers and normalizes the data'''\n",
    "    X_out = (X_in-np.mean(X_in,axis=0))/np.std(X_in,axis=0)\n",
    "    return X_out\n",
    "\n",
    "if (k in [2,3]):\n",
    "    X_leukemia_project_rescale = standardScaler(X_leukemia_project)\n",
    "    class0 = X_leukemia_project_rescale[Y==0]\n",
    "    class1 = X_leukemia_project_rescale[Y==1]\n",
    "    plt.scatter(class0[:,0],class0[:,1],color='blue')\n",
    "    plt.scatter(class1[:,0],class1[:,1],color='red')\n",
    "    # P=points(class0,color='blue',size=20)\n",
    "    # P+=points(class1,color='red',size=20)\n",
    "    # P.show()"
   ]
  },
  {
   "cell_type": "markdown",
   "id": "33c7a4c9",
   "metadata": {},
   "source": [
    "From the above plot, it should be possible to use logistic regression to solve this problem"
   ]
  },
  {
   "cell_type": "code",
   "execution_count": 64,
   "id": "dbd3ec9c",
   "metadata": {},
   "outputs": [
    {
     "name": "stdout",
     "output_type": "stream",
     "text": [
      "Number of data_points: 72, number of features: 7129, Number of components: 2\n"
     ]
    }
   ],
   "source": [
    "pca_leukemia_2d = PCA(n_components=2)\n",
    "pca_leukemia_2d.fit(X)\n",
    "X_leukemia_project_2d = standardScaler(pca_leukemia_2d.transform(X))"
   ]
  },
  {
   "cell_type": "markdown",
   "id": "c6814b94",
   "metadata": {},
   "source": [
    "Cool, lets do logistic regression"
   ]
  },
  {
   "cell_type": "code",
   "execution_count": 65,
   "id": "f64f73ba",
   "metadata": {},
   "outputs": [
    {
     "data": {
      "text/html": [
       "<style>#sk-container-id-1 {\n",
       "  /* Definition of color scheme common for light and dark mode */\n",
       "  --sklearn-color-text: black;\n",
       "  --sklearn-color-line: gray;\n",
       "  /* Definition of color scheme for unfitted estimators */\n",
       "  --sklearn-color-unfitted-level-0: #fff5e6;\n",
       "  --sklearn-color-unfitted-level-1: #f6e4d2;\n",
       "  --sklearn-color-unfitted-level-2: #ffe0b3;\n",
       "  --sklearn-color-unfitted-level-3: chocolate;\n",
       "  /* Definition of color scheme for fitted estimators */\n",
       "  --sklearn-color-fitted-level-0: #f0f8ff;\n",
       "  --sklearn-color-fitted-level-1: #d4ebff;\n",
       "  --sklearn-color-fitted-level-2: #b3dbfd;\n",
       "  --sklearn-color-fitted-level-3: cornflowerblue;\n",
       "\n",
       "  /* Specific color for light theme */\n",
       "  --sklearn-color-text-on-default-background: var(--sg-text-color, var(--theme-code-foreground, var(--jp-content-font-color1, black)));\n",
       "  --sklearn-color-background: var(--sg-background-color, var(--theme-background, var(--jp-layout-color0, white)));\n",
       "  --sklearn-color-border-box: var(--sg-text-color, var(--theme-code-foreground, var(--jp-content-font-color1, black)));\n",
       "  --sklearn-color-icon: #696969;\n",
       "\n",
       "  @media (prefers-color-scheme: dark) {\n",
       "    /* Redefinition of color scheme for dark theme */\n",
       "    --sklearn-color-text-on-default-background: var(--sg-text-color, var(--theme-code-foreground, var(--jp-content-font-color1, white)));\n",
       "    --sklearn-color-background: var(--sg-background-color, var(--theme-background, var(--jp-layout-color0, #111)));\n",
       "    --sklearn-color-border-box: var(--sg-text-color, var(--theme-code-foreground, var(--jp-content-font-color1, white)));\n",
       "    --sklearn-color-icon: #878787;\n",
       "  }\n",
       "}\n",
       "\n",
       "#sk-container-id-1 {\n",
       "  color: var(--sklearn-color-text);\n",
       "}\n",
       "\n",
       "#sk-container-id-1 pre {\n",
       "  padding: 0;\n",
       "}\n",
       "\n",
       "#sk-container-id-1 input.sk-hidden--visually {\n",
       "  border: 0;\n",
       "  clip: rect(1px 1px 1px 1px);\n",
       "  clip: rect(1px, 1px, 1px, 1px);\n",
       "  height: 1px;\n",
       "  margin: -1px;\n",
       "  overflow: hidden;\n",
       "  padding: 0;\n",
       "  position: absolute;\n",
       "  width: 1px;\n",
       "}\n",
       "\n",
       "#sk-container-id-1 div.sk-dashed-wrapped {\n",
       "  border: 1px dashed var(--sklearn-color-line);\n",
       "  margin: 0 0.4em 0.5em 0.4em;\n",
       "  box-sizing: border-box;\n",
       "  padding-bottom: 0.4em;\n",
       "  background-color: var(--sklearn-color-background);\n",
       "}\n",
       "\n",
       "#sk-container-id-1 div.sk-container {\n",
       "  /* jupyter's `normalize.less` sets `[hidden] { display: none; }`\n",
       "     but bootstrap.min.css set `[hidden] { display: none !important; }`\n",
       "     so we also need the `!important` here to be able to override the\n",
       "     default hidden behavior on the sphinx rendered scikit-learn.org.\n",
       "     See: https://github.com/scikit-learn/scikit-learn/issues/21755 */\n",
       "  display: inline-block !important;\n",
       "  position: relative;\n",
       "}\n",
       "\n",
       "#sk-container-id-1 div.sk-text-repr-fallback {\n",
       "  display: none;\n",
       "}\n",
       "\n",
       "div.sk-parallel-item,\n",
       "div.sk-serial,\n",
       "div.sk-item {\n",
       "  /* draw centered vertical line to link estimators */\n",
       "  background-image: linear-gradient(var(--sklearn-color-text-on-default-background), var(--sklearn-color-text-on-default-background));\n",
       "  background-size: 2px 100%;\n",
       "  background-repeat: no-repeat;\n",
       "  background-position: center center;\n",
       "}\n",
       "\n",
       "/* Parallel-specific style estimator block */\n",
       "\n",
       "#sk-container-id-1 div.sk-parallel-item::after {\n",
       "  content: \"\";\n",
       "  width: 100%;\n",
       "  border-bottom: 2px solid var(--sklearn-color-text-on-default-background);\n",
       "  flex-grow: 1;\n",
       "}\n",
       "\n",
       "#sk-container-id-1 div.sk-parallel {\n",
       "  display: flex;\n",
       "  align-items: stretch;\n",
       "  justify-content: center;\n",
       "  background-color: var(--sklearn-color-background);\n",
       "  position: relative;\n",
       "}\n",
       "\n",
       "#sk-container-id-1 div.sk-parallel-item {\n",
       "  display: flex;\n",
       "  flex-direction: column;\n",
       "}\n",
       "\n",
       "#sk-container-id-1 div.sk-parallel-item:first-child::after {\n",
       "  align-self: flex-end;\n",
       "  width: 50%;\n",
       "}\n",
       "\n",
       "#sk-container-id-1 div.sk-parallel-item:last-child::after {\n",
       "  align-self: flex-start;\n",
       "  width: 50%;\n",
       "}\n",
       "\n",
       "#sk-container-id-1 div.sk-parallel-item:only-child::after {\n",
       "  width: 0;\n",
       "}\n",
       "\n",
       "/* Serial-specific style estimator block */\n",
       "\n",
       "#sk-container-id-1 div.sk-serial {\n",
       "  display: flex;\n",
       "  flex-direction: column;\n",
       "  align-items: center;\n",
       "  background-color: var(--sklearn-color-background);\n",
       "  padding-right: 1em;\n",
       "  padding-left: 1em;\n",
       "}\n",
       "\n",
       "\n",
       "/* Toggleable style: style used for estimator/Pipeline/ColumnTransformer box that is\n",
       "clickable and can be expanded/collapsed.\n",
       "- Pipeline and ColumnTransformer use this feature and define the default style\n",
       "- Estimators will overwrite some part of the style using the `sk-estimator` class\n",
       "*/\n",
       "\n",
       "/* Pipeline and ColumnTransformer style (default) */\n",
       "\n",
       "#sk-container-id-1 div.sk-toggleable {\n",
       "  /* Default theme specific background. It is overwritten whether we have a\n",
       "  specific estimator or a Pipeline/ColumnTransformer */\n",
       "  background-color: var(--sklearn-color-background);\n",
       "}\n",
       "\n",
       "/* Toggleable label */\n",
       "#sk-container-id-1 label.sk-toggleable__label {\n",
       "  cursor: pointer;\n",
       "  display: block;\n",
       "  width: 100%;\n",
       "  margin-bottom: 0;\n",
       "  padding: 0.5em;\n",
       "  box-sizing: border-box;\n",
       "  text-align: center;\n",
       "}\n",
       "\n",
       "#sk-container-id-1 label.sk-toggleable__label-arrow:before {\n",
       "  /* Arrow on the left of the label */\n",
       "  content: \"▸\";\n",
       "  float: left;\n",
       "  margin-right: 0.25em;\n",
       "  color: var(--sklearn-color-icon);\n",
       "}\n",
       "\n",
       "#sk-container-id-1 label.sk-toggleable__label-arrow:hover:before {\n",
       "  color: var(--sklearn-color-text);\n",
       "}\n",
       "\n",
       "/* Toggleable content - dropdown */\n",
       "\n",
       "#sk-container-id-1 div.sk-toggleable__content {\n",
       "  max-height: 0;\n",
       "  max-width: 0;\n",
       "  overflow: hidden;\n",
       "  text-align: left;\n",
       "  /* unfitted */\n",
       "  background-color: var(--sklearn-color-unfitted-level-0);\n",
       "}\n",
       "\n",
       "#sk-container-id-1 div.sk-toggleable__content.fitted {\n",
       "  /* fitted */\n",
       "  background-color: var(--sklearn-color-fitted-level-0);\n",
       "}\n",
       "\n",
       "#sk-container-id-1 div.sk-toggleable__content pre {\n",
       "  margin: 0.2em;\n",
       "  border-radius: 0.25em;\n",
       "  color: var(--sklearn-color-text);\n",
       "  /* unfitted */\n",
       "  background-color: var(--sklearn-color-unfitted-level-0);\n",
       "}\n",
       "\n",
       "#sk-container-id-1 div.sk-toggleable__content.fitted pre {\n",
       "  /* unfitted */\n",
       "  background-color: var(--sklearn-color-fitted-level-0);\n",
       "}\n",
       "\n",
       "#sk-container-id-1 input.sk-toggleable__control:checked~div.sk-toggleable__content {\n",
       "  /* Expand drop-down */\n",
       "  max-height: 200px;\n",
       "  max-width: 100%;\n",
       "  overflow: auto;\n",
       "}\n",
       "\n",
       "#sk-container-id-1 input.sk-toggleable__control:checked~label.sk-toggleable__label-arrow:before {\n",
       "  content: \"▾\";\n",
       "}\n",
       "\n",
       "/* Pipeline/ColumnTransformer-specific style */\n",
       "\n",
       "#sk-container-id-1 div.sk-label input.sk-toggleable__control:checked~label.sk-toggleable__label {\n",
       "  color: var(--sklearn-color-text);\n",
       "  background-color: var(--sklearn-color-unfitted-level-2);\n",
       "}\n",
       "\n",
       "#sk-container-id-1 div.sk-label.fitted input.sk-toggleable__control:checked~label.sk-toggleable__label {\n",
       "  background-color: var(--sklearn-color-fitted-level-2);\n",
       "}\n",
       "\n",
       "/* Estimator-specific style */\n",
       "\n",
       "/* Colorize estimator box */\n",
       "#sk-container-id-1 div.sk-estimator input.sk-toggleable__control:checked~label.sk-toggleable__label {\n",
       "  /* unfitted */\n",
       "  background-color: var(--sklearn-color-unfitted-level-2);\n",
       "}\n",
       "\n",
       "#sk-container-id-1 div.sk-estimator.fitted input.sk-toggleable__control:checked~label.sk-toggleable__label {\n",
       "  /* fitted */\n",
       "  background-color: var(--sklearn-color-fitted-level-2);\n",
       "}\n",
       "\n",
       "#sk-container-id-1 div.sk-label label.sk-toggleable__label,\n",
       "#sk-container-id-1 div.sk-label label {\n",
       "  /* The background is the default theme color */\n",
       "  color: var(--sklearn-color-text-on-default-background);\n",
       "}\n",
       "\n",
       "/* On hover, darken the color of the background */\n",
       "#sk-container-id-1 div.sk-label:hover label.sk-toggleable__label {\n",
       "  color: var(--sklearn-color-text);\n",
       "  background-color: var(--sklearn-color-unfitted-level-2);\n",
       "}\n",
       "\n",
       "/* Label box, darken color on hover, fitted */\n",
       "#sk-container-id-1 div.sk-label.fitted:hover label.sk-toggleable__label.fitted {\n",
       "  color: var(--sklearn-color-text);\n",
       "  background-color: var(--sklearn-color-fitted-level-2);\n",
       "}\n",
       "\n",
       "/* Estimator label */\n",
       "\n",
       "#sk-container-id-1 div.sk-label label {\n",
       "  font-family: monospace;\n",
       "  font-weight: bold;\n",
       "  display: inline-block;\n",
       "  line-height: 1.2em;\n",
       "}\n",
       "\n",
       "#sk-container-id-1 div.sk-label-container {\n",
       "  text-align: center;\n",
       "}\n",
       "\n",
       "/* Estimator-specific */\n",
       "#sk-container-id-1 div.sk-estimator {\n",
       "  font-family: monospace;\n",
       "  border: 1px dotted var(--sklearn-color-border-box);\n",
       "  border-radius: 0.25em;\n",
       "  box-sizing: border-box;\n",
       "  margin-bottom: 0.5em;\n",
       "  /* unfitted */\n",
       "  background-color: var(--sklearn-color-unfitted-level-0);\n",
       "}\n",
       "\n",
       "#sk-container-id-1 div.sk-estimator.fitted {\n",
       "  /* fitted */\n",
       "  background-color: var(--sklearn-color-fitted-level-0);\n",
       "}\n",
       "\n",
       "/* on hover */\n",
       "#sk-container-id-1 div.sk-estimator:hover {\n",
       "  /* unfitted */\n",
       "  background-color: var(--sklearn-color-unfitted-level-2);\n",
       "}\n",
       "\n",
       "#sk-container-id-1 div.sk-estimator.fitted:hover {\n",
       "  /* fitted */\n",
       "  background-color: var(--sklearn-color-fitted-level-2);\n",
       "}\n",
       "\n",
       "/* Specification for estimator info (e.g. \"i\" and \"?\") */\n",
       "\n",
       "/* Common style for \"i\" and \"?\" */\n",
       "\n",
       ".sk-estimator-doc-link,\n",
       "a:link.sk-estimator-doc-link,\n",
       "a:visited.sk-estimator-doc-link {\n",
       "  float: right;\n",
       "  font-size: smaller;\n",
       "  line-height: 1em;\n",
       "  font-family: monospace;\n",
       "  background-color: var(--sklearn-color-background);\n",
       "  border-radius: 1em;\n",
       "  height: 1em;\n",
       "  width: 1em;\n",
       "  text-decoration: none !important;\n",
       "  margin-left: 1ex;\n",
       "  /* unfitted */\n",
       "  border: var(--sklearn-color-unfitted-level-1) 1pt solid;\n",
       "  color: var(--sklearn-color-unfitted-level-1);\n",
       "}\n",
       "\n",
       ".sk-estimator-doc-link.fitted,\n",
       "a:link.sk-estimator-doc-link.fitted,\n",
       "a:visited.sk-estimator-doc-link.fitted {\n",
       "  /* fitted */\n",
       "  border: var(--sklearn-color-fitted-level-1) 1pt solid;\n",
       "  color: var(--sklearn-color-fitted-level-1);\n",
       "}\n",
       "\n",
       "/* On hover */\n",
       "div.sk-estimator:hover .sk-estimator-doc-link:hover,\n",
       ".sk-estimator-doc-link:hover,\n",
       "div.sk-label-container:hover .sk-estimator-doc-link:hover,\n",
       ".sk-estimator-doc-link:hover {\n",
       "  /* unfitted */\n",
       "  background-color: var(--sklearn-color-unfitted-level-3);\n",
       "  color: var(--sklearn-color-background);\n",
       "  text-decoration: none;\n",
       "}\n",
       "\n",
       "div.sk-estimator.fitted:hover .sk-estimator-doc-link.fitted:hover,\n",
       ".sk-estimator-doc-link.fitted:hover,\n",
       "div.sk-label-container:hover .sk-estimator-doc-link.fitted:hover,\n",
       ".sk-estimator-doc-link.fitted:hover {\n",
       "  /* fitted */\n",
       "  background-color: var(--sklearn-color-fitted-level-3);\n",
       "  color: var(--sklearn-color-background);\n",
       "  text-decoration: none;\n",
       "}\n",
       "\n",
       "/* Span, style for the box shown on hovering the info icon */\n",
       ".sk-estimator-doc-link span {\n",
       "  display: none;\n",
       "  z-index: 9999;\n",
       "  position: relative;\n",
       "  font-weight: normal;\n",
       "  right: .2ex;\n",
       "  padding: .5ex;\n",
       "  margin: .5ex;\n",
       "  width: min-content;\n",
       "  min-width: 20ex;\n",
       "  max-width: 50ex;\n",
       "  color: var(--sklearn-color-text);\n",
       "  box-shadow: 2pt 2pt 4pt #999;\n",
       "  /* unfitted */\n",
       "  background: var(--sklearn-color-unfitted-level-0);\n",
       "  border: .5pt solid var(--sklearn-color-unfitted-level-3);\n",
       "}\n",
       "\n",
       ".sk-estimator-doc-link.fitted span {\n",
       "  /* fitted */\n",
       "  background: var(--sklearn-color-fitted-level-0);\n",
       "  border: var(--sklearn-color-fitted-level-3);\n",
       "}\n",
       "\n",
       ".sk-estimator-doc-link:hover span {\n",
       "  display: block;\n",
       "}\n",
       "\n",
       "/* \"?\"-specific style due to the `<a>` HTML tag */\n",
       "\n",
       "#sk-container-id-1 a.estimator_doc_link {\n",
       "  float: right;\n",
       "  font-size: 1rem;\n",
       "  line-height: 1em;\n",
       "  font-family: monospace;\n",
       "  background-color: var(--sklearn-color-background);\n",
       "  border-radius: 1rem;\n",
       "  height: 1rem;\n",
       "  width: 1rem;\n",
       "  text-decoration: none;\n",
       "  /* unfitted */\n",
       "  color: var(--sklearn-color-unfitted-level-1);\n",
       "  border: var(--sklearn-color-unfitted-level-1) 1pt solid;\n",
       "}\n",
       "\n",
       "#sk-container-id-1 a.estimator_doc_link.fitted {\n",
       "  /* fitted */\n",
       "  border: var(--sklearn-color-fitted-level-1) 1pt solid;\n",
       "  color: var(--sklearn-color-fitted-level-1);\n",
       "}\n",
       "\n",
       "/* On hover */\n",
       "#sk-container-id-1 a.estimator_doc_link:hover {\n",
       "  /* unfitted */\n",
       "  background-color: var(--sklearn-color-unfitted-level-3);\n",
       "  color: var(--sklearn-color-background);\n",
       "  text-decoration: none;\n",
       "}\n",
       "\n",
       "#sk-container-id-1 a.estimator_doc_link.fitted:hover {\n",
       "  /* fitted */\n",
       "  background-color: var(--sklearn-color-fitted-level-3);\n",
       "}\n",
       "</style><div id=\"sk-container-id-1\" class=\"sk-top-container\"><div class=\"sk-text-repr-fallback\"><pre>LogisticRegression()</pre><b>In a Jupyter environment, please rerun this cell to show the HTML representation or trust the notebook. <br />On GitHub, the HTML representation is unable to render, please try loading this page with nbviewer.org.</b></div><div class=\"sk-container\" hidden><div class=\"sk-item\"><div class=\"sk-estimator fitted sk-toggleable\"><input class=\"sk-toggleable__control sk-hidden--visually\" id=\"sk-estimator-id-1\" type=\"checkbox\" checked><label for=\"sk-estimator-id-1\" class=\"sk-toggleable__label fitted sk-toggleable__label-arrow fitted\">&nbsp;&nbsp;LogisticRegression<a class=\"sk-estimator-doc-link fitted\" rel=\"noreferrer\" target=\"_blank\" href=\"https://scikit-learn.org/1.5/modules/generated/sklearn.linear_model.LogisticRegression.html\">?<span>Documentation for LogisticRegression</span></a><span class=\"sk-estimator-doc-link fitted\">i<span>Fitted</span></span></label><div class=\"sk-toggleable__content fitted\"><pre>LogisticRegression()</pre></div> </div></div></div></div>"
      ],
      "text/plain": [
       "LogisticRegression()"
      ]
     },
     "execution_count": 65,
     "metadata": {},
     "output_type": "execute_result"
    }
   ],
   "source": [
    "from sklearn.linear_model import LogisticRegression\n",
    "lr = LogisticRegression()\n",
    "lr.fit(X_leukemia_project_2d,Y)"
   ]
  },
  {
   "cell_type": "code",
   "execution_count": 66,
   "id": "bfd9b7c8",
   "metadata": {
    "scrolled": true
   },
   "outputs": [
    {
     "data": {
      "text/plain": [
       "0.9444444444444444"
      ]
     },
     "execution_count": 66,
     "metadata": {},
     "output_type": "execute_result"
    }
   ],
   "source": [
    "lr.score(X_leukemia_project_2d,Y)"
   ]
  },
  {
   "cell_type": "markdown",
   "id": "3d15b3aa",
   "metadata": {},
   "source": [
    "### Comments\n",
    "\n",
    "You would think that since both PCA and Logistic regression are linear that PCA+LogisticRegression would be the same as just LogisticRegression in the first place. This is not true, as PCA and LogisticRegression are minimizing different things, remember, for instance, the way we measure error (vertical / orthogonal).\n",
    "\n",
    "We can also illustrate it here."
   ]
  },
  {
   "cell_type": "code",
   "execution_count": 67,
   "id": "c7b048c8",
   "metadata": {},
   "outputs": [
    {
     "name": "stdout",
     "output_type": "stream",
     "text": [
      "Number of data_points: 72, number of features: 7129, Number of components: 2\n"
     ]
    },
    {
     "data": {
      "text/plain": [
       "0.9444444444444444"
      ]
     },
     "execution_count": 67,
     "metadata": {},
     "output_type": "execute_result"
    }
   ],
   "source": [
    "# Lets try to map it to 2d\n",
    "pca1 = PCA(n_components=2)\n",
    "pca1.fit(X)\n",
    "lr1 = LogisticRegression()\n",
    "lr1.fit(standardScaler(pca1.transform(X)),Y)\n",
    "lr1.score(standardScaler(pca1.transform(X)),Y)"
   ]
  },
  {
   "cell_type": "code",
   "execution_count": 68,
   "id": "4207296a",
   "metadata": {},
   "outputs": [
    {
     "name": "stdout",
     "output_type": "stream",
     "text": [
      "Number of data_points: 72, number of features: 7129, Number of components: 5\n"
     ]
    },
    {
     "data": {
      "text/plain": [
       "0.9583333333333334"
      ]
     },
     "execution_count": 68,
     "metadata": {},
     "output_type": "execute_result"
    }
   ],
   "source": [
    "# Lets try to map it to 5d\n",
    "pca2 = PCA(n_components=5)\n",
    "pca2.fit(X)\n",
    "lr2 = LogisticRegression()\n",
    "lr2.fit(standardScaler(pca2.transform(X)),Y)\n",
    "lr2.score(standardScaler(pca2.transform(X)),Y)"
   ]
  },
  {
   "cell_type": "code",
   "execution_count": 69,
   "id": "3bb6732d",
   "metadata": {},
   "outputs": [
    {
     "name": "stdout",
     "output_type": "stream",
     "text": [
      "Number of data_points: 72, number of features: 7129, Number of components: 10\n"
     ]
    },
    {
     "data": {
      "text/plain": [
       "0.9861111111111112"
      ]
     },
     "execution_count": 69,
     "metadata": {},
     "output_type": "execute_result"
    }
   ],
   "source": [
    "# Lets try to map it to 10d\n",
    "pca3 = PCA(n_components=10)\n",
    "pca3.fit(X)\n",
    "lr3 = LogisticRegression()\n",
    "lr3.fit(standardScaler(pca3.transform(X)),Y)\n",
    "lr3.score(standardScaler(pca3.transform(X)),Y)"
   ]
  },
  {
   "cell_type": "markdown",
   "id": "9044ba1b",
   "metadata": {},
   "source": [
    "Intriguing, so we see that it is something else. Perhaps, at this point you might also remember that PCA does not use the labels, it just represents the data $X$ in different coordinates."
   ]
  },
  {
   "cell_type": "markdown",
   "id": "6be088c0",
   "metadata": {},
   "source": [
    "# Recommender engines"
   ]
  },
  {
   "cell_type": "markdown",
   "id": "5407119c",
   "metadata": {},
   "source": [
    "Let us say that we have a library of movies, lets say that we have $m$ movies. Furthermore assume that we have $n$ users that are watching these movies and outputting a like whenever they liked a movie. We can represent this as a matrix of the form $n \\times m$, with a $1$ in position $i,j$ if user $i$ liked movie $j$."
   ]
  },
  {
   "cell_type": "markdown",
   "id": "48960b47",
   "metadata": {},
   "source": [
    "There is an idea that is called collaborative filtering:"
   ]
  },
  {
   "cell_type": "code",
   "execution_count": null,
   "id": "52f668d0",
   "metadata": {},
   "outputs": [],
   "source": [
    "showURL('https://en.wikipedia.org/wiki/Collaborative_filtering')"
   ]
  },
  {
   "cell_type": "code",
   "execution_count": null,
   "id": "c2519d8a",
   "metadata": {},
   "outputs": [],
   "source": [
    "showURL('https://en.wikipedia.org/wiki/Matrix_factorization_(recommender_systems)',500)"
   ]
  },
  {
   "cell_type": "markdown",
   "id": "eeb44a58",
   "metadata": {},
   "source": [
    "Note that we can from the singular value decomposition and what we did with PCA we can do the following\n",
    "\n",
    "$$\n",
    "    A = U \\Sigma V^T\n",
    "    = \\begin{bmatrix} U_1 & U_2 \\end{bmatrix} \\begin{bmatrix} \\Sigma_r & 0 \\\\ 0 & 0 \\end{bmatrix} \\begin{bmatrix} V_1^T \\\\ V_2^T \\end{bmatrix}\n",
    "    = U_1 \\left(\\Sigma_r V_1^T\\right) .\n",
    "$$"
   ]
  },
  {
   "cell_type": "markdown",
   "id": "e0547dce",
   "metadata": {},
   "source": [
    "This method is a type of ranking factorization, note that for $C = U_1$ and $F = \\Sigma_r V_1^T$, then the product $CF$ is a low rank factorization approximation of $A$."
   ]
  },
  {
   "cell_type": "code",
   "execution_count": 70,
   "id": "0f597cfa",
   "metadata": {},
   "outputs": [
    {
     "name": "stdout",
     "output_type": "stream",
     "text": [
      "['userId', 'movieId', 'rating', 'timestamp']\n"
     ]
    }
   ],
   "source": [
    "import csv\n",
    "user_item_data=[]\n",
    "with open('data/ratings.csv',mode='r') as f:\n",
    "    reader = csv.reader(f)\n",
    "    print(next(reader))\n",
    "    for row in reader:\n",
    "        user_item_data.append(row)"
   ]
  },
  {
   "cell_type": "code",
   "execution_count": 71,
   "id": "4df2f279",
   "metadata": {},
   "outputs": [],
   "source": [
    "movie_ids = [row[1] for row in user_item_data]\n",
    "users = [row[0] for row in user_item_data]\n",
    "#user_item_data[:10]"
   ]
  },
  {
   "cell_type": "code",
   "execution_count": 72,
   "id": "6be03877",
   "metadata": {},
   "outputs": [],
   "source": [
    "n_movies = len(set(movie_ids))\n",
    "movie_to_index_dict = dict(zip(set(movie_ids),range(n_movies)))\n",
    "n_users = len(set(users))\n",
    "user_to_index_dict = dict(zip(set(users),range(n_users)))"
   ]
  },
  {
   "cell_type": "code",
   "execution_count": 74,
   "id": "1514537c",
   "metadata": {},
   "outputs": [],
   "source": [
    "user_item = np.zeros((n_users,n_movies))"
   ]
  },
  {
   "cell_type": "code",
   "execution_count": 75,
   "id": "7184e0b6",
   "metadata": {},
   "outputs": [],
   "source": [
    "for row in user_item_data:\n",
    "    user_index = user_to_index_dict[row[0]]\n",
    "    movie_index = movie_to_index_dict[row[1]]\n",
    "    if (float(row[2]) > 3): # Lets say that rating >3 is that user liked it\n",
    "        user_item[user_index,movie_index] = 1"
   ]
  },
  {
   "cell_type": "code",
   "execution_count": 80,
   "id": "436ee108",
   "metadata": {
    "scrolled": true
   },
   "outputs": [],
   "source": [
    "U,D,VT = np.linalg.svd(user_item,full_matrices=False)"
   ]
  },
  {
   "cell_type": "markdown",
   "id": "3909081f",
   "metadata": {},
   "source": [
    "Lets choose a small value for the rank, lets say $100$"
   ]
  },
  {
   "cell_type": "code",
   "execution_count": 81,
   "id": "c4c5b6ed",
   "metadata": {},
   "outputs": [],
   "source": [
    "n_latent = 100\n",
    "C = U[:,:n_latent]\n",
    "F = np.diag(D[:n_latent])@VT[:n_latent,:]"
   ]
  },
  {
   "cell_type": "code",
   "execution_count": 82,
   "id": "0ab55faf",
   "metadata": {},
   "outputs": [
    {
     "data": {
      "text/plain": [
       "(610, 100)"
      ]
     },
     "execution_count": 82,
     "metadata": {},
     "output_type": "execute_result"
    }
   ],
   "source": [
    "C.shape"
   ]
  },
  {
   "cell_type": "code",
   "execution_count": 83,
   "id": "9e2eba4c",
   "metadata": {},
   "outputs": [
    {
     "data": {
      "text/plain": [
       "(100, 9724)"
      ]
     },
     "execution_count": 83,
     "metadata": {},
     "output_type": "execute_result"
    }
   ],
   "source": [
    "F.shape"
   ]
  },
  {
   "cell_type": "code",
   "execution_count": 84,
   "id": "33c92200",
   "metadata": {},
   "outputs": [
    {
     "data": {
      "text/plain": [
       "np.float64(0.3111024693758507)"
      ]
     },
     "execution_count": 84,
     "metadata": {},
     "output_type": "execute_result"
    }
   ],
   "source": [
    "np.sum(np.abs(user_item-(C@F > 1/2)))/np.sum(user_item)"
   ]
  },
  {
   "cell_type": "markdown",
   "id": "b36de059",
   "metadata": {},
   "source": [
    "Now the idea is that $CF$ is the prediction of the scores, and we would construct a recommendation for each user based on that which is predicted in $CF$ but the user has not yet seen. We could set a threshold for predicted as $>1/2$ or we could simply list the recommendations in order of descending predicted score."
   ]
  },
  {
   "cell_type": "markdown",
   "id": "57699ec0",
   "metadata": {},
   "source": [
    "This is a simple recommender system and this is a fairly large field of study."
   ]
  },
  {
   "cell_type": "code",
   "execution_count": null,
   "id": "a424b35d",
   "metadata": {},
   "outputs": [],
   "source": []
  }
 ],
 "metadata": {
  "kernelspec": {
   "display_name": "data-science-env",
   "language": "python",
   "name": "data-science-env"
  },
  "language_info": {
   "codemirror_mode": {
    "name": "ipython",
    "version": 3
   },
   "file_extension": ".py",
   "mimetype": "text/x-python",
   "name": "python",
   "nbconvert_exporter": "python",
   "pygments_lexer": "ipython3",
   "version": "3.12.6"
  },
  "lx_course_instance": "2024",
  "lx_course_name": "Introduction to Data Science",
  "lx_course_number": "1MS041"
 },
 "nbformat": 4,
 "nbformat_minor": 5
}
