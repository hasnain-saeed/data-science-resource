{
 "cells": [
  {
   "cell_type": "markdown",
   "id": "669dc016-9171-4788-bc69-7b060cf828ef",
   "metadata": {},
   "source": [
    "## Calculating $ M $ for the Target Distribution $ f(x) $\n",
    "\n",
    "### Step 1: Define the Target Distribution $ f(x) $\n",
    "The given probability density function (PDF) is:\n",
    "$$\n",
    "f(x) =\n",
    "\\begin{cases} \n",
    "\\frac{\\exp(x^2) - 1}{\\exp(1) - 1}, & 0 < x < 1, \\\\\n",
    "0, & \\text{otherwise}.\n",
    "\\end{cases}\n",
    "$$\n",
    "\n",
    "### Step 2: Choose the Proposal Distribution $ g(x) $\n",
    "We choose a uniform distribution:\n",
    "$$\n",
    "g(x) = 1, \\quad 0 < x < 1.\n",
    "$$\n",
    "This proposal distribution is simple and fully covers the target distribution.\n",
    "\n",
    "### Step 3: Find the Ratio $ \\frac{f(x)}{g(x)} $\n",
    "Since \\( g(x) = 1 \\), the ratio simplifies to:\n",
    "$$\n",
    "\\frac{f(x)}{g(x)} = f(x) = \\frac{\\exp(x^2) - 1}{\\exp(1) - 1}.\n",
    "$$\n",
    "\n",
    "### Step 4: Determine $ M = \\sup_x f(x) $\n",
    "To calculate \\( M \\), find the maximum value of \\( f(x) \\) over \\( 0 < x < 1 \\):\n",
    "1. \\( f(x) \\) achieves its maximum at \\( x = 1 \\) because \\( \\exp(x^2) \\) is an increasing function.\n",
    "2. Evaluate \\( f(1) \\):\n",
    "   $$\n",
    "   f(1) = \\frac{\\exp(1^2) - 1}{\\exp(1) - 1} = 1.\n",
    "   $$\n",
    "\n",
    "### Final Scaling Factor\n",
    "The scaling factor is:\n",
    "$$\n",
    "M = 1.\n",
    "$$\n"
   ]
  },
  {
   "cell_type": "code",
   "execution_count": null,
   "id": "8b1dc8e1-da32-4e1e-bafb-52d2d1d87a72",
   "metadata": {},
   "outputs": [],
   "source": []
  },
  {
   "cell_type": "markdown",
   "id": "7fb584f1-3945-4200-99fb-d1a25ad0a938",
   "metadata": {},
   "source": [
    "### Step 1: Understand the Target Distribution  \n",
    "The target cumulative distribution function (CDF) $F(x)$ is defined as:  \n",
    "$$\n",
    "F(x) =\n",
    "\\begin{cases} \n",
    "0, & x \\leq 0, \\\\ \n",
    "\\frac{\\exp(x^2) - 1}{\\exp(1) - 1}, & 0 < x < 1, \\\\\n",
    "1, & x \\geq 1.\n",
    "\\end{cases}\n",
    "$$\n",
    "\n",
    "The corresponding probability density function (PDF) $f(x)$ is obtained by differentiating $F(x)$:\n",
    "$$\n",
    "f(x) =\n",
    "\\begin{cases} \n",
    "\\frac{2x \\exp(x^2)}{\\exp(1) - 1}, & 0 < x < 1, \\\\\n",
    "0, & \\text{otherwise}.\n",
    "\\end{cases}\n",
    "$$\n",
    "\n",
    "---\n",
    "\n",
    "### Step 2: Choose a Proposal Distribution  \n",
    "To sample from $f(x)$, we use rejection sampling. A simple choice for the proposal distribution is the uniform distribution over $[0,1]$:  \n",
    "$$\n",
    "g(x) = \n",
    "\\begin{cases}\n",
    "1, & 0 \\leq x \\leq 1, \\\\\n",
    "0, & \\text{otherwise}.\n",
    "\\end{cases}\n",
    "$$\n",
    "\n",
    "---\n",
    "\n",
    "### Step 3: Derive the Acceptance Condition  \n",
    "Rejection sampling requires finding a constant $M$ such that:  \n",
    "$$\n",
    "f(x) \\leq M \\cdot g(x), \\quad \\text{for all } x \\text{ in } [0,1].\n",
    "$$\n",
    "Since $g(x) = 1$ on $[0,1]$, this simplifies to:  \n",
    "$$\n",
    "f(x) \\leq M, \\quad \\text{for all } x \\text{ in } [0,1].\n",
    "$$\n",
    "\n",
    "---\n",
    "\n",
    "### Step 4: Determine $M = \\sup_x f(x)$  \n",
    "To calculate $M$, find the maximum value of $f(x)$ over $0 < x < 1$:  \n",
    "1. The function $f(x) = \\frac{2x \\exp(x^2)}{\\exp(1) - 1}$ is increasing on $[0,1]$ because $x \\exp(x^2)$ grows as $x$ increases.  \n",
    "2. The maximum occurs at $x = 1$. Evaluate $f(1)$:\n",
    "   $$\n",
    "   f(1) = \\frac{2 \\cdot 1 \\cdot \\exp(1^2)}{\\exp(1) - 1} = \\frac{2e}{e - 1}.\n",
    "   $$\n",
    "\n",
    "Thus, $M = \\frac{2e}{e - 1}$.\n",
    "\n",
    "---\n",
    "\n",
    "### Step 5: Rejection Sampling Algorithm  \n",
    "The rejection sampling steps are as follows:  \n",
    "1. Draw a candidate $X'$ from the proposal distribution $g(x)$, which is Uniform$(0,1)$.  \n",
    "2. Compute the acceptance ratio:\n",
    "   $$\n",
    "   R = \\frac{f(X')}{M}.\n",
    "   $$  \n",
    "3. Draw a random value $U$ from Uniform$(0,1)$.  \n",
    "4. Accept $X'$ if $U \\leq R$. Otherwise, reject $X'$ and repeat.  \n",
    "\n",
    "Repeat this process until the desired number of samples is obtained.\n"
   ]
  },
  {
   "cell_type": "code",
   "execution_count": 69,
   "id": "c033d871-fa61-4257-8f63-35b84e7676f4",
   "metadata": {},
   "outputs": [],
   "source": [
    "# Part 1\n",
    "import numpy as np\n",
    "import matplotlib.pyplot as plt\n",
    "from Utils import timeout\n",
    "\n",
    "@timeout(seconds=10)\n",
    "def problem1_inversion(n_samples=1):\n",
    "    \"\"\"\n",
    "    Uses rejection sampling to generate n_samples from the distribution:\n",
    "\n",
    "       f(x) = (2 x e^(x^2)) / ( e - 1 ), for 0 < x < 1\n",
    "       f(x) = 0, otherwise.\n",
    "\n",
    "    Returns a numpy array of length n_samples.\n",
    "    \"\"\"\n",
    "    samples = []\n",
    "    \n",
    "    # PDF of our target distribution\n",
    "    def f(x):\n",
    "        if 0 < x < 1:\n",
    "            return (2.0 * x * np.exp(x**2)) / (np.e - 1.0)\n",
    "        else:\n",
    "            return 0.0\n",
    "\n",
    "    # Proposal distribution is Uniform(0,1) => g(x) = 1 on [0,1].\n",
    "    # We need M such that f(x) <= M*g(x). Derived M = 2 e / ( e - 1 ).\n",
    "    M = 2.0 * np.e / (np.e - 1.0)\n",
    "\n",
    "    while len(samples) < n_samples:\n",
    "        # 1) Sample from proposal g(x) = Uniform(0,1)\n",
    "        X_candidate = np.random.rand()  # in [0,1]\n",
    "        \n",
    "        # 2) Compute ratio f(X_candidate) / [M*g(X_candidate)] = f(X_candidate)/M since g=1\n",
    "        pdf_val = f(X_candidate)\n",
    "        ratio = pdf_val / M\n",
    "        \n",
    "        # 3) Draw U ~ Uniform(0,1) for the acceptance test\n",
    "        U = np.random.rand()\n",
    "        if U <= ratio:\n",
    "            samples.append(X_candidate)\n",
    "    \n",
    "    return np.array(samples)\n",
    "\n"
   ]
  },
  {
   "cell_type": "code",
   "execution_count": 70,
   "id": "6b6a78d4-220e-43ff-af39-6652ff8a7d2b",
   "metadata": {},
   "outputs": [
    {
     "name": "stdout",
     "output_type": "stream",
     "text": [
      "Generated 100000 samples successfully.\n"
     ]
    }
   ],
   "source": [
    "try:\n",
    "    problem1_samples = problem1_inversion(n_samples=100000)\n",
    "    print(f\"Generated {len(problem1_samples)} samples successfully.\")\n",
    "except TimeoutError:\n",
    "    print(\"The function timed out. Try reducing the sample size.\")"
   ]
  },
  {
   "cell_type": "code",
   "execution_count": 71,
   "id": "5be46d3f-dad2-4909-aad9-cbd46a249560",
   "metadata": {},
   "outputs": [
    {
     "data": {
      "image/png": "[encoded data removed]",
      "text/plain": [
       "<Figure size 1000x600 with 1 Axes>"
      ]
     },
     "metadata": {},
     "output_type": "display_data"
    }
   ],
   "source": [
    "# Plot the histogram of the samples\n",
    "x_vals = np.linspace(0, 1, 1000)\n",
    "true_density = [((2.0 * x * np.exp(x**2)) / (np.e - 1.0)) for x in x_vals]\n",
    "\n",
    "plt.figure(figsize=(10, 6))\n",
    "plt.hist(problem1_samples, bins=50, density=True, alpha=0.6, color='blue', label=\"Sampled Distribution\")\n",
    "plt.plot(x_vals, true_density, color='red', linewidth=2, label=\"True Density\")\n",
    "plt.title(\"Rejection Sampling: Histogram and True Density\")\n",
    "plt.xlabel(\"x\")\n",
    "plt.ylabel(\"Density\")\n",
    "plt.legend()\n",
    "plt.show()"
   ]
  },
  {
   "cell_type": "code",
   "execution_count": 34,
   "id": "f5d1993a-368a-4d60-b2fd-0cfef5522ccf",
   "metadata": {},
   "outputs": [
    {
     "data": {
      "text/plain": [
       "np.float64(1.2446967694672186)"
      ]
     },
     "execution_count": 34,
     "metadata": {},
     "output_type": "execute_result"
    }
   ],
   "source": [
    "# Define the function for the integral\n",
    "def integrand(x):\n",
    "    return np.sin(x) * (2 * np.exp(x**2) * x) / (np.exp(1) - 1)\n",
    "\n",
    "# Use the 100,000 samples (problem1_samples)\n",
    "f_values = integrand(problem1_samples)\n",
    "\n",
    "# Part 3\n",
    "problem1_integral = np.mean(f_values)\n",
    "problem1_integral"
   ]
  },
  {
   "cell_type": "code",
   "execution_count": 35,
   "id": "ecf7f81d-0b18-4c2e-ada7-7253db72f38f",
   "metadata": {},
   "outputs": [],
   "source": [
    "# Hoeffding's inequality: Calculate epsilon\n",
    "delta = 0.05  # 95% confidence\n",
    "n_samples = len(problem1_samples)\n",
    "epsilon = np.sqrt(np.log(2 / delta) / (2 * n_samples))\n",
    "\n",
    "# Part 4\n",
    "problem1_interval = [problem1_integral - epsilon, problem1_integral + epsilon]"
   ]
  },
  {
   "cell_type": "code",
   "execution_count": 36,
   "id": "a1716450-34cb-4b7e-b343-dcf36edee5d9",
   "metadata": {},
   "outputs": [
    {
     "data": {
      "text/plain": [
       "[np.float64(1.2404020753837512), np.float64(1.248991463550686)]"
      ]
     },
     "execution_count": 36,
     "metadata": {},
     "output_type": "execute_result"
    }
   ],
   "source": [
    "problem1_interval"
   ]
  },
  {
   "cell_type": "code",
   "execution_count": null,
   "id": "f624f5c6-5a57-4098-a290-499dc221704f",
   "metadata": {},
   "outputs": [],
   "source": []
  },
  {
   "cell_type": "markdown",
   "id": "81d26afd-549f-4456-83bb-59e8d9ed93a6",
   "metadata": {},
   "source": [
    "### Step 1: Understand the Target Distribution  \n",
    "The target probability density function (PDF) $f_X(x)$ is defined as:  \n",
    "$$\n",
    "f_X(x) =\n",
    "\\begin{cases} \n",
    "20 \\cdot \\exp(20 - 1/x) \\cdot \\left(1 + \\frac{1}{x}\\right), & 0 < x < \\frac{1}{20}, \\\\ \n",
    "0, & \\text{otherwise}.\n",
    "\\end{cases}\n",
    "$$\n",
    "\n",
    "Key observations:\n",
    "1. The PDF $f_X(x)$ is **heavily skewed** and spikes near $x = \\frac{1}{20}$.  \n",
    "2. It is zero for $x \\leq 0$ or $x \\geq \\frac{1}{20}$.  \n",
    "\n",
    "We aim to sample random values $x$ from $f_X(x)$ using **rejection sampling**.\n",
    "\n",
    "---\n",
    "\n",
    "### Step 2: Choose a Proposal Distribution  \n",
    "For rejection sampling, we need a simpler proposal distribution $g_X(x)$ that satisfies:\n",
    "1. $g_X(x) > 0$ wherever $f_X(x) > 0$.  \n",
    "2. $f_X(x) \\leq M \\cdot g_X(x)$ for some constant $M > 0$.\n",
    "\n",
    "We choose $g_X(x)$ as a **Uniform distribution** over $(0, \\frac{1}{20})$:  \n",
    "$$\n",
    "g_X(x) =\n",
    "\\begin{cases}\n",
    "20, & 0 < x < \\frac{1}{20}, \\\\\n",
    "0, & \\text{otherwise}.\n",
    "\\end{cases}\n",
    "$$\n",
    "\n",
    "This choice is simple because:\n",
    "- It is easy to sample $x \\sim g_X(x)$.  \n",
    "- The constant value $g_X(x) = 20$ simplifies calculations.\n",
    "\n",
    "---\n",
    "\n",
    "### Step 3: Derive the Acceptance Condition  \n",
    "Rejection sampling requires finding a constant $M$ such that:  \n",
    "$$\n",
    "f_X(x) \\leq M \\cdot g_X(x), \\quad \\forall x \\in \\left(0, \\frac{1}{20}\\right).\n",
    "$$\n",
    "\n",
    "Substituting $g_X(x) = 20$:  \n",
    "$$\n",
    "\\frac{f_X(x)}{g_X(x)} = \\frac{f_X(x)}{20} \\leq M.\n",
    "$$\n",
    "\n",
    "Thus, the acceptance condition simplifies to:  \n",
    "$$\n",
    "f_X(x) \\leq M \\cdot 20, \\quad \\text{or equivalently,} \\quad \\frac{f_X(x)}{20} \\leq M.\n",
    "$$\n",
    "\n",
    "---\n",
    "\n",
    "### Step 4: Determine $M = \\sup_x \\frac{f_X(x)}{g_X(x)}$  \n",
    "To calculate $M$, we evaluate the ratio:\n",
    "$$\n",
    "\\frac{f_X(x)}{g_X(x)} = \\frac{20 \\cdot \\exp(20 - 1/x) \\cdot \\left(1 + \\frac{1}{x}\\right)}{20} = \\exp(20 - 1/x) \\cdot \\left(1 + \\frac{1}{x}\\right).\n",
    "$$\n",
    "\n",
    "- The function $\\exp(20 - 1/x) \\cdot (1 + 1/x)$ increases as $x \\to \\frac{1}{20}$.  \n",
    "- At $x = \\frac{1}{20}$, we compute:\n",
    "  $$\n",
    "  \\exp(20 - 1/x) \\cdot \\left(1 + \\frac{1}{x}\\right) = \\exp(20 - 20) \\cdot \\left(1 + 20\\right) = 21.\n",
    "  $$\n",
    "\n",
    "Thus, the bounding constant is $M = 21$.\n",
    "\n",
    "---\n",
    "\n",
    "### Step 5: Rejection Sampling Algorithm  \n",
    "The rejection sampling steps are as follows:\n",
    "\n",
    "1. **Propose a candidate**:  \n",
    "   Draw $X_{\\text{cand}} \\sim g_X(x) = \\text{Uniform}(0, \\frac{1}{20})$.\n",
    "\n",
    "2. **Compute the acceptance ratio**:  \n",
    "   $$\n",
    "   R = \\frac{f_X(X_{\\text{cand}})}{M \\cdot g_X(X_{\\text{cand}})}.\n",
    "   $$\n",
    "   Substituting $g_X(x) = 20$:  \n",
    "   $$\n",
    "   R = \\frac{f_X(X_{\\text{cand}})}{M \\cdot 20}.\n",
    "   $$\n",
    "\n",
    "3. **Draw a random value**:  \n",
    "   Draw $U \\sim \\text{Uniform}(0, 1)$.\n",
    "\n",
    "4. **Accept/Reject**:  \n",
    "   - Accept $X_{\\text{cand}}$ if $U \\leq R$.  \n",
    "   - Otherwise, reject $X_{\\text{cand}}$ and repeat.\n",
    "\n",
    "5. Repeat steps 1–4 until the desired number of samples is obtained.\n"
   ]
  },
  {
   "cell_type": "code",
   "execution_count": null,
   "id": "378b40e4-96ee-4db7-b5f1-d9202ae2a8f1",
   "metadata": {},
   "outputs": [],
   "source": []
  },
  {
   "cell_type": "code",
   "execution_count": 51,
   "id": "e0072999-155f-40a8-adb8-97d53ab4d706",
   "metadata": {},
   "outputs": [],
   "source": [
    "import numpy as np\n",
    "\n",
    "def problem1_inversion_2(n_samples=10000):\n",
    "    \"\"\"\n",
    "    Simple rejection sampling with Uniform(0,1/20).\n",
    "    Very straightforward but might reject ~95% of proposals.\n",
    "    \"\"\"\n",
    "    def f_target(x):\n",
    "        if 0 < x < 1/20:\n",
    "            return 20.0 * np.exp(20.0 - 1.0/x) * (1.0 + 1.0/x)\n",
    "        else:\n",
    "            return 0.0\n",
    "\n",
    "    # Uniform(0,1/20) => g(x) = 20 for x in (0,1/20).\n",
    "    # We know M=21 from analysis.\n",
    "    M = 21.0\n",
    "    \n",
    "    samples = []\n",
    "    while len(samples) < n_samples:\n",
    "        # 1) Propose\n",
    "        x_cand = np.random.uniform(0, 1/20)\n",
    "        \n",
    "        # 2) Acceptance ratio\n",
    "        fx = f_target(x_cand)\n",
    "        gx = 20.0  # PDF of uniform(0,1/20)\n",
    "        ratio = fx / (M * gx)\n",
    "\n",
    "        # 3) Draw U\n",
    "        if np.random.rand() < ratio:\n",
    "            samples.append(x_cand)\n",
    "    \n",
    "    return np.array(samples)\n"
   ]
  },
  {
   "cell_type": "code",
   "execution_count": 63,
   "id": "d0145e41-633c-4d52-bc23-9363106704cc",
   "metadata": {},
   "outputs": [],
   "source": [
    "problem1_2_samples = problem1_inversion_2(n_samples=100000)"
   ]
  },
  {
   "cell_type": "code",
   "execution_count": 68,
   "id": "13281aeb-00f1-4ccc-86de-9c7f3dc51e4c",
   "metadata": {},
   "outputs": [
    {
     "data": {
      "image/png": "[encoded data removed]",
      "text/plain": [
       "<Figure size 1000x600 with 1 Axes>"
      ]
     },
     "metadata": {},
     "output_type": "display_data"
    }
   ],
   "source": [
    "# Plot the histogram of the samples\n",
    "x_vals = np.linspace(0.01, 1/20, 1000)\n",
    "true_density = [(20.0 * np.exp(20.0 - 1.0/x) * (1.0 + 1.0/x)) for x in x_vals]\n",
    "\n",
    "plt.figure(figsize=(10, 6))\n",
    "plt.hist(problem1_2_samples, bins=50, density=True, alpha=0.6, color='blue', label=\"Sampled Distribution\")\n",
    "plt.plot(x_vals, true_density, color='red', linewidth=2, label=\"True Density\")\n",
    "plt.title(\"Rejection Sampling: Histogram and True Density\")\n",
    "plt.xlabel(\"x\")\n",
    "plt.ylabel(\"Density\")\n",
    "plt.legend()\n",
    "plt.show()"
   ]
  },
  {
   "cell_type": "code",
   "execution_count": null,
   "id": "5110ca2a-ba52-4972-87ea-3675eb5f073a",
   "metadata": {},
   "outputs": [],
   "source": []
  },
  {
   "cell_type": "markdown",
   "id": "8bde09f3-4281-484b-bf23-91abb94921a0",
   "metadata": {},
   "source": [
    "# Markov Chains"
   ]
  },
  {
   "cell_type": "code",
   "execution_count": 1,
   "id": "82260bfc-ac6a-4713-885b-5ca11ff918e7",
   "metadata": {},
   "outputs": [],
   "source": [
    "import numpy as np"
   ]
  },
  {
   "cell_type": "code",
   "execution_count": 2,
   "id": "90903162-b0e2-4a88-8b66-327b7995d5e8",
   "metadata": {},
   "outputs": [],
   "source": [
    "P1 = np.array([[0.8, 0.2, 0, 0],[0.6, 0.2, 0.2, 0],[0, 0.4, 0, 0.6],[0, 0, 0.8, 0.2]])"
   ]
  },
  {
   "cell_type": "code",
   "execution_count": 4,
   "id": "98cfa5b3-989c-4564-b15e-2972c6730be1",
   "metadata": {},
   "outputs": [
    {
     "data": {
      "text/plain": [
       "array([[0.8, 0.2, 0. , 0. ],\n",
       "       [0.6, 0.2, 0.2, 0. ],\n",
       "       [0. , 0.4, 0. , 0.6],\n",
       "       [0. , 0. , 0.8, 0.2]])"
      ]
     },
     "execution_count": 4,
     "metadata": {},
     "output_type": "execute_result"
    }
   ],
   "source": [
    "P1"
   ]
  },
  {
   "cell_type": "code",
   "execution_count": 12,
   "id": "e89e3ce6-79d0-4cc8-b35a-7f33a0c1b3e2",
   "metadata": {},
   "outputs": [],
   "source": [
    "evals, evecs = np.linalg.eig(P1.T)"
   ]
  },
  {
   "cell_type": "code",
   "execution_count": 10,
   "id": "36a32d60-0b44-45ce-a2be-81db2ffe5479",
   "metadata": {},
   "outputs": [
    {
     "data": {
      "text/plain": [
       "array([-0.66055513,  0.06055513,  1.        ,  0.8       ])"
      ]
     },
     "execution_count": 10,
     "metadata": {},
     "output_type": "execute_result"
    }
   ],
   "source": [
    "evals"
   ]
  },
  {
   "cell_type": "code",
   "execution_count": 11,
   "id": "e06011c6-1f38-4f23-925e-c735cd22a446",
   "metadata": {},
   "outputs": [
    {
     "data": {
      "text/plain": [
       "array([[-1.57576216e-01, -6.18338687e-01, -9.30680081e-01,\n",
       "        -8.16496581e-01],\n",
       "       [ 3.83581250e-01,  7.62045619e-01, -3.10226694e-01,\n",
       "        -3.20000334e-16],\n",
       "       [-7.46443921e-01,  4.35109581e-02, -1.55113347e-01,\n",
       "         4.08248290e-01],\n",
       "       [ 5.20438886e-01, -1.87217890e-01, -1.16335010e-01,\n",
       "         4.08248290e-01]])"
      ]
     },
     "execution_count": 11,
     "metadata": {},
     "output_type": "execute_result"
    }
   ],
   "source": [
    "evecs"
   ]
  },
  {
   "cell_type": "code",
   "execution_count": 26,
   "id": "36d4a828-09b6-4a9b-819d-20c2707d1e5d",
   "metadata": {},
   "outputs": [],
   "source": [
    "stationary = evecs[:,2]/np.sum(evecs[:,2])"
   ]
  },
  {
   "cell_type": "code",
   "execution_count": 19,
   "id": "1371cfcb-7022-4184-a849-aa3c8e41b7db",
   "metadata": {},
   "outputs": [],
   "source": [
    "from fractions import Fraction"
   ]
  },
  {
   "cell_type": "code",
   "execution_count": 28,
   "id": "64121cc8-9e8b-45ad-9b6d-c75e2cd7e945",
   "metadata": {},
   "outputs": [
    {
     "data": {
      "text/plain": [
       "[Fraction(8, 13), Fraction(8, 39), Fraction(4, 39), Fraction(1, 13)]"
      ]
     },
     "execution_count": 28,
     "metadata": {},
     "output_type": "execute_result"
    }
   ],
   "source": [
    "[Fraction(s).limit_denominator() for s in stationary]"
   ]
  },
  {
   "cell_type": "code",
   "execution_count": null,
   "id": "cfb765a5-06ec-48fe-a11b-dc2c074f8d27",
   "metadata": {},
   "outputs": [],
   "source": []
  },
  {
   "cell_type": "code",
   "execution_count": 29,
   "id": "1a420e10-f548-48be-b438-8b719a7ae160",
   "metadata": {},
   "outputs": [],
   "source": [
    "P2 = np.array([[0, 0.2, 0, 0.8],[0, 0, 1, 0],[0, 1, 0, 0],[0.5, 0, 0.5, 0]])"
   ]
  },
  {
   "cell_type": "code",
   "execution_count": 30,
   "id": "26f66f05-1bd4-4a1c-8b78-9fda79baa054",
   "metadata": {},
   "outputs": [],
   "source": [
    "evals, evecs = np.linalg.eig(P2.T)"
   ]
  },
  {
   "cell_type": "code",
   "execution_count": 31,
   "id": "7212002b-c5ca-4c0b-848a-730b347baa79",
   "metadata": {},
   "outputs": [
    {
     "data": {
      "text/plain": [
       "array([-1.        , -0.63245553,  0.63245553,  1.        ])"
      ]
     },
     "execution_count": 31,
     "metadata": {},
     "output_type": "execute_result"
    }
   ],
   "source": [
    "evals"
   ]
  },
  {
   "cell_type": "code",
   "execution_count": 32,
   "id": "3098d06d-9b2b-4a1a-b27d-36672b631fc1",
   "metadata": {},
   "outputs": [
    {
     "data": {
      "text/plain": [
       "array([[ 8.26495057e-17, -4.38529010e-01,  4.38529010e-01,\n",
       "         7.85046229e-16],\n",
       "       [-7.07106781e-01, -5.54700196e-01, -5.54700196e-01,\n",
       "         7.07106781e-01],\n",
       "       [ 7.07106781e-01,  4.38529010e-01, -4.38529010e-01,\n",
       "         7.07106781e-01],\n",
       "       [ 1.55737187e-16,  5.54700196e-01,  5.54700196e-01,\n",
       "         8.63550852e-16]])"
      ]
     },
     "execution_count": 32,
     "metadata": {},
     "output_type": "execute_result"
    }
   ],
   "source": [
    "evecs"
   ]
  },
  {
   "cell_type": "code",
   "execution_count": 33,
   "id": "b0639cde-6a4e-424b-94ba-2b8701990a30",
   "metadata": {},
   "outputs": [],
   "source": [
    "stationary2 = evecs[:,-1]/np.sum(evecs[:,-1])"
   ]
  },
  {
   "cell_type": "code",
   "execution_count": 34,
   "id": "4ed97c5a-a1ac-4157-ab84-ca2dbbc8fc69",
   "metadata": {},
   "outputs": [
    {
     "data": {
      "text/plain": [
       "array([5.55111512e-16, 5.00000000e-01, 5.00000000e-01, 6.10622664e-16])"
      ]
     },
     "execution_count": 34,
     "metadata": {},
     "output_type": "execute_result"
    }
   ],
   "source": [
    "stationary2"
   ]
  },
  {
   "cell_type": "code",
   "execution_count": null,
   "id": "2dbb6a13-f6cc-4a80-a558-cc3c4bc2cc97",
   "metadata": {},
   "outputs": [],
   "source": []
  },
  {
   "cell_type": "code",
   "execution_count": 35,
   "id": "21258b89-941e-41b2-8408-673a7b618148",
   "metadata": {},
   "outputs": [],
   "source": [
    "P3 = np.array([[0.2, 0.3, 0, 0, 0.5],[0.2, 0.2, 0.6, 0, 0],[0, 0.4, 0, 0.6, 0],[0, 0, 0, 0.6, 0.4], [0, 0, 0, 0.4, 0.6]])"
   ]
  },
  {
   "cell_type": "code",
   "execution_count": 36,
   "id": "dc40abc5-369a-4c15-9fa5-7df771933567",
   "metadata": {},
   "outputs": [
    {
     "data": {
      "text/plain": [
       "array([[0.2, 0.3, 0. , 0. , 0.5],\n",
       "       [0.2, 0.2, 0.6, 0. , 0. ],\n",
       "       [0. , 0.4, 0. , 0.6, 0. ],\n",
       "       [0. , 0. , 0. , 0.6, 0.4],\n",
       "       [0. , 0. , 0. , 0.4, 0.6]])"
      ]
     },
     "execution_count": 36,
     "metadata": {},
     "output_type": "execute_result"
    }
   ],
   "source": [
    "P3"
   ]
  },
  {
   "cell_type": "code",
   "execution_count": 37,
   "id": "de539f8e-f877-4477-9817-d516329d2fac",
   "metadata": {},
   "outputs": [],
   "source": [
    "evals, evecs = np.linalg.eig(P3.T)"
   ]
  },
  {
   "cell_type": "code",
   "execution_count": 38,
   "id": "2b3b36c1-4c4d-4152-bae9-02f2bca7e026",
   "metadata": {},
   "outputs": [
    {
     "data": {
      "text/plain": [
       "array([-0.43966678,  1.        ,  0.1608228 ,  0.2       ,  0.67884398])"
      ]
     },
     "execution_count": 38,
     "metadata": {},
     "output_type": "execute_result"
    }
   ],
   "source": [
    "evals"
   ]
  },
  {
   "cell_type": "code",
   "execution_count": 39,
   "id": "4b4975a5-2325-4260-9752-0f8981e8e732",
   "metadata": {},
   "outputs": [
    {
     "data": {
      "text/plain": [
       "array([[-1.61982825e-01,  2.41988097e-16, -5.88749523e-02,\n",
       "        -3.37590681e-15, -1.90056864e-01],\n",
       "       [ 5.18075160e-01,  0.00000000e+00,  1.15327795e-02,\n",
       "         5.26480705e-16, -4.55037926e-01],\n",
       "       [-7.07001554e-01,  1.07550265e-16,  4.30266591e-02,\n",
       "         2.86349238e-15, -4.02187783e-01],\n",
       "       [ 4.43726725e-01,  7.07106781e-01, -7.03016027e-01,\n",
       "         7.07106781e-01,  3.70894000e-01],\n",
       "       [-9.28175058e-02,  7.07106781e-01,  7.07331540e-01,\n",
       "        -7.07106781e-01,  6.76388573e-01]])"
      ]
     },
     "execution_count": 39,
     "metadata": {},
     "output_type": "execute_result"
    }
   ],
   "source": [
    "evecs"
   ]
  },
  {
   "cell_type": "code",
   "execution_count": 40,
   "id": "5c6f4470-2f58-44ee-a08e-a579480686b3",
   "metadata": {},
   "outputs": [],
   "source": [
    "stationary3 = evecs[:,1]/np.sum(evecs[:,1])"
   ]
  },
  {
   "cell_type": "code",
   "execution_count": 41,
   "id": "ecaf5091-4025-4c63-8adc-25c324055ec9",
   "metadata": {},
   "outputs": [
    {
     "data": {
      "text/plain": [
       "array([1.71111424e-16, 0.00000000e+00, 7.60495219e-17, 5.00000000e-01,\n",
       "       5.00000000e-01])"
      ]
     },
     "execution_count": 41,
     "metadata": {},
     "output_type": "execute_result"
    }
   ],
   "source": [
    "stationary3"
   ]
  },
  {
   "cell_type": "code",
   "execution_count": 42,
   "id": "0e5da1f6-d608-448f-86a2-f50102ab0856",
   "metadata": {},
   "outputs": [
    {
     "data": {
      "text/plain": [
       "[Fraction(0, 1),\n",
       " Fraction(0, 1),\n",
       " Fraction(0, 1),\n",
       " Fraction(1, 2),\n",
       " Fraction(1, 2)]"
      ]
     },
     "execution_count": 42,
     "metadata": {},
     "output_type": "execute_result"
    }
   ],
   "source": [
    "[Fraction(s).limit_denominator() for s in stationary3]"
   ]
  },
  {
   "cell_type": "code",
   "execution_count": null,
   "id": "000b284c-d4f5-4676-b3b0-783fa8d16c0c",
   "metadata": {},
   "outputs": [],
   "source": []
  },
  {
   "cell_type": "code",
   "execution_count": 43,
   "id": "28c87b4d-66ba-4bbb-8e07-377a36b126fb",
   "metadata": {},
   "outputs": [],
   "source": [
    "P4 = np.array([[0.8, 0.2, 0, 0],[0.6, 0.2, 0.2, 0],[0, 0.4, 0, 0.6],[0.1, 0, 0.7, 0.2]])"
   ]
  },
  {
   "cell_type": "code",
   "execution_count": 44,
   "id": "02fbd94c-405e-4727-923b-db0936d434f3",
   "metadata": {},
   "outputs": [],
   "source": [
    "evals, evecs = np.linalg.eig(P4.T)"
   ]
  },
  {
   "cell_type": "code",
   "execution_count": 45,
   "id": "e831dd7e-8c29-4eed-bc55-ff149fcedb4b",
   "metadata": {},
   "outputs": [
    {
     "data": {
      "text/plain": [
       "array([-0.62210672,  0.06823162,  1.        ,  0.7538751 ])"
      ]
     },
     "execution_count": 45,
     "metadata": {},
     "output_type": "execute_result"
    }
   ],
   "source": [
    "evals"
   ]
  },
  {
   "cell_type": "code",
   "execution_count": 46,
   "id": "709584e4-a2c2-4de8-bdd9-582faaeec7b0",
   "metadata": {},
   "outputs": [
    {
     "data": {
      "text/plain": [
       "array([[ 0.20617053,  0.60076399, -0.94153129, -0.81332884],\n",
       "       [-0.40095999, -0.76852983, -0.29815157, -0.00871773],\n",
       "       [ 0.72099449, -0.04721217, -0.1255375 ,  0.39459308],\n",
       "       [-0.52620503,  0.214978  , -0.09415313,  0.4274535 ]])"
      ]
     },
     "execution_count": 46,
     "metadata": {},
     "output_type": "execute_result"
    }
   ],
   "source": [
    "evecs"
   ]
  },
  {
   "cell_type": "code",
   "execution_count": 47,
   "id": "6f458483-59ea-48d9-8447-91a71db3e5cc",
   "metadata": {},
   "outputs": [],
   "source": [
    "stationary4 = evecs[:,2]/np.sum(evecs[:,2])"
   ]
  },
  {
   "cell_type": "code",
   "execution_count": 48,
   "id": "dc913c5e-3d81-454a-97a7-df410b4b2327",
   "metadata": {},
   "outputs": [
    {
     "data": {
      "text/plain": [
       "array([0.64516129, 0.20430108, 0.08602151, 0.06451613])"
      ]
     },
     "execution_count": 48,
     "metadata": {},
     "output_type": "execute_result"
    }
   ],
   "source": [
    "stationary4"
   ]
  },
  {
   "cell_type": "code",
   "execution_count": 49,
   "id": "dd2e52ea-20db-4ae8-b4a2-4daab14875c2",
   "metadata": {},
   "outputs": [
    {
     "data": {
      "text/plain": [
       "[Fraction(20, 31), Fraction(19, 93), Fraction(8, 93), Fraction(2, 31)]"
      ]
     },
     "execution_count": 49,
     "metadata": {},
     "output_type": "execute_result"
    }
   ],
   "source": [
    "[Fraction(s).limit_denominator() for s in stationary4]"
   ]
  },
  {
   "cell_type": "code",
   "execution_count": null,
   "id": "507770a0-a38f-4b10-8d72-96395c3de092",
   "metadata": {},
   "outputs": [],
   "source": []
  },
  {
   "cell_type": "code",
   "execution_count": 50,
   "id": "0beba877-a558-4ce8-99ae-5912303847f0",
   "metadata": {},
   "outputs": [],
   "source": [
    "test = np.array([[0.5, 0.5, 0],[0.5, 0, 0.5],[0.5, 0, 0.5]])"
   ]
  },
  {
   "cell_type": "code",
   "execution_count": 67,
   "id": "f5846775-3e3f-4a2c-97cf-ad0da0af807c",
   "metadata": {},
   "outputs": [
    {
     "data": {
      "text/plain": [
       "matrix([[0.5 , 0.25, 0.25],\n",
       "        [0.5 , 0.25, 0.25],\n",
       "        [0.5 , 0.25, 0.25]])"
      ]
     },
     "execution_count": 67,
     "metadata": {},
     "output_type": "execute_result"
    }
   ],
   "source": [
    "np.matrix(test)**3"
   ]
  },
  {
   "cell_type": "code",
   "execution_count": null,
   "id": "4891088a-a56d-43fc-a117-2ec2ed733796",
   "metadata": {},
   "outputs": [],
   "source": []
  }
 ],
 "metadata": {
  "kernelspec": {
   "display_name": "data-science-env",
   "language": "python",
   "name": "data-science-env"
  },
  "language_info": {
   "codemirror_mode": {
    "name": "ipython",
    "version": 3
   },
   "file_extension": ".py",
   "mimetype": "text/x-python",
   "name": "python",
   "nbconvert_exporter": "python",
   "pygments_lexer": "ipython3",
   "version": "3.12.6"
  }
 },
 "nbformat": 4,
 "nbformat_minor": 5
}
